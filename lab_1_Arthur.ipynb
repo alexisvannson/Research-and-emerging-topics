{
  "cells": [
    {
      "cell_type": "markdown",
      "metadata": {},
      "source": [
        "# Geospatial Data Analysis Lab: Steel Plants Dataset\n",
        "\n",
        "\n",
        "**(15/10/2025) Learning Objectives:**\n",
        "- Perform exploratory data analysis (EDA) on geospatial datasets\n",
        "- Visualize geospatial data using interactive maps with Plotly\n",
        "- Merge environmental data with asset locations\n",
        "- Aggregate data at the company level\n",
        "- Integrate geospatial visualizations into a Streamlit dashboard\n",
        "\n",
        "---\n"
      ]
    },
    {
      "cell_type": "markdown",
      "metadata": {},
      "source": [
        "## Part 1: Setup and Data Loading\n",
        "\n",
        "Import the necessary libraries and load the steel plants dataset.\n"
      ]
    },
    {
      "cell_type": "code",
      "execution_count": 141,
      "metadata": {},
      "outputs": [],
      "source": [
        "# Import required libraries\n",
        "# - pandas for data manipulation\n",
        "# - numpy for numerical operations\n",
        "# - plotly.express and plotly.graph_objects for interactive visualizations\n",
        "# - Any other libraries you might need\n",
        "\n",
        "import pandas as pd\n",
        "import numpy as np\n",
        "import plotly.express as px\n",
        "import plotly.graph_objects as go\n",
        "import matplotlib.pyplot as plt\n"
      ]
    },
    {
      "cell_type": "code",
      "execution_count": 142,
      "metadata": {},
      "outputs": [
        {
          "name": "stdout",
          "output_type": "stream",
          "text": [
            "Index(['Plant ID', 'Plant name (English)', 'Plant name (other language)',\n",
            "       'Other plant names (English)', 'Other plant names (other language)',\n",
            "       'Owner', 'Owner (other language)', 'Owner GEM ID', 'Owner PermID',\n",
            "       'SOE Status', 'Parent', 'Parent GEM ID', 'Parent PermID',\n",
            "       'Location address', 'Municipality', 'Subnational unit (province/state)',\n",
            "       'Country/Area', 'Region', 'Other language location address',\n",
            "       'Coordinates', 'Coordinate accuracy', 'GEM wiki page',\n",
            "       'Plant age (years)', 'Announced date', 'Construction date',\n",
            "       'Start date', 'Pre-retirement announcement date', 'Idled date',\n",
            "       'Retired date', 'Ferronickel capacity (ttpa)',\n",
            "       'Sinter plant capacity (ttpa)', 'Coking plant capacity (ttpa)',\n",
            "       'Pelletizing plant capacity (ttpa)', 'Category steel product',\n",
            "       'Steel products', 'Steel sector end users', 'Workforce size',\n",
            "       'ISO 14001', 'ISO 50001', 'ResponsibleSteel Certification',\n",
            "       'Main production equipment', 'Power source', 'Iron ore source',\n",
            "       'Met coal source'],\n",
            "      dtype='object')\n"
          ]
        }
      ],
      "source": [
        "# Load the steel plants dataset\n",
        "# Expected columns: plant_id, plant_name, company, latitude, longitude, capacity, year_built, etc.\n",
        "\n",
        "df = pd.read_excel('Plant-level-data-Global-Iron-and-Steel-Tracker-September-2025-V1.xlsx',sheet_name='Plant data')\n",
        "print(df.columns)"
      ]
    },
    {
      "cell_type": "markdown",
      "metadata": {},
      "source": [
        "---\n",
        "## Part 2: Exploratory Data Analysis (15 minutes)\n",
        "\n",
        "Answer the following questions through your analysis:\n"
      ]
    },
    {
      "cell_type": "markdown",
      "metadata": {},
      "source": [
        "### Question 1: Data Overview\n",
        "**Task:** Display basic information about the dataset.\n",
        "- How many steel plants are in the dataset?\n",
        "- What are the column names and data types?\n",
        "- Are there any missing values?\n"
      ]
    },
    {
      "cell_type": "code",
      "execution_count": 143,
      "metadata": {},
      "outputs": [
        {
          "data": {
            "text/plain": [
              "(1209, 44)"
            ]
          },
          "execution_count": 143,
          "metadata": {},
          "output_type": "execute_result"
        }
      ],
      "source": [
        "# Display dataset shape\n",
        "\n",
        "df.shape"
      ]
    },
    {
      "cell_type": "code",
      "execution_count": 144,
      "metadata": {},
      "outputs": [
        {
          "data": {
            "text/plain": [
              "Plant ID                              object\n",
              "Plant name (English)                  object\n",
              "Plant name (other language)           object\n",
              "Other plant names (English)           object\n",
              "Other plant names (other language)    object\n",
              "Owner                                 object\n",
              "Owner (other language)                object\n",
              "Owner GEM ID                          object\n",
              "Owner PermID                          object\n",
              "SOE Status                            object\n",
              "Parent                                object\n",
              "Parent GEM ID                         object\n",
              "Parent PermID                         object\n",
              "Location address                      object\n",
              "Municipality                          object\n",
              "Subnational unit (province/state)     object\n",
              "Country/Area                          object\n",
              "Region                                object\n",
              "Other language location address       object\n",
              "Coordinates                           object\n",
              "Coordinate accuracy                   object\n",
              "GEM wiki page                         object\n",
              "Plant age (years)                     object\n",
              "Announced date                        object\n",
              "Construction date                     object\n",
              "Start date                            object\n",
              "Pre-retirement announcement date      object\n",
              "Idled date                            object\n",
              "Retired date                          object\n",
              "Ferronickel capacity (ttpa)           object\n",
              "Sinter plant capacity (ttpa)          object\n",
              "Coking plant capacity (ttpa)          object\n",
              "Pelletizing plant capacity (ttpa)     object\n",
              "Category steel product                object\n",
              "Steel products                        object\n",
              "Steel sector end users                object\n",
              "Workforce size                        object\n",
              "ISO 14001                             object\n",
              "ISO 50001                             object\n",
              "ResponsibleSteel Certification        object\n",
              "Main production equipment             object\n",
              "Power source                          object\n",
              "Iron ore source                       object\n",
              "Met coal source                       object\n",
              "dtype: object"
            ]
          },
          "execution_count": 144,
          "metadata": {},
          "output_type": "execute_result"
        }
      ],
      "source": [
        "# Display column information and data types\n",
        "\n",
        "df.dtypes"
      ]
    },
    {
      "cell_type": "code",
      "execution_count": 145,
      "metadata": {},
      "outputs": [
        {
          "data": {
            "text/plain": [
              "Plant ID                                 0\n",
              "Plant name (English)                     0\n",
              "Plant name (other language)            512\n",
              "Other plant names (English)            507\n",
              "Other plant names (other language)     922\n",
              "Owner                                    0\n",
              "Owner (other language)                 655\n",
              "Owner GEM ID                             0\n",
              "Owner PermID                             0\n",
              "SOE Status                            1007\n",
              "Parent                                   0\n",
              "Parent GEM ID                            0\n",
              "Parent PermID                            0\n",
              "Location address                         0\n",
              "Municipality                             0\n",
              "Subnational unit (province/state)        0\n",
              "Country/Area                             0\n",
              "Region                                   0\n",
              "Other language location address        764\n",
              "Coordinates                              0\n",
              "Coordinate accuracy                      1\n",
              "GEM wiki page                            0\n",
              "Plant age (years)                       67\n",
              "Announced date                           0\n",
              "Construction date                        0\n",
              "Start date                               0\n",
              "Pre-retirement announcement date         0\n",
              "Idled date                               0\n",
              "Retired date                             0\n",
              "Ferronickel capacity (ttpa)            625\n",
              "Sinter plant capacity (ttpa)           484\n",
              "Coking plant capacity (ttpa)           615\n",
              "Pelletizing plant capacity (ttpa)      491\n",
              "Category steel product                   0\n",
              "Steel products                           0\n",
              "Steel sector end users                   0\n",
              "Workforce size                           0\n",
              "ISO 14001                                0\n",
              "ISO 50001                                0\n",
              "ResponsibleSteel Certification           0\n",
              "Main production equipment                0\n",
              "Power source                             0\n",
              "Iron ore source                          1\n",
              "Met coal source                          0\n",
              "dtype: int64"
            ]
          },
          "execution_count": 145,
          "metadata": {},
          "output_type": "execute_result"
        }
      ],
      "source": [
        "# Check for missing values\n",
        "re_df = df.isnull().sum()\n",
        "re_df\n"
      ]
    },
    {
      "cell_type": "markdown",
      "metadata": {},
      "source": [
        "### Question 2: Statistical Summary\n",
        "**Task:** Generate descriptive statistics for numerical columns.\n",
        "- What is the average plant capacity?\n",
        "- What is the range of latitudes and longitudes?\n",
        "- What is the distribution of plant ages?\n"
      ]
    },
    {
      "cell_type": "code",
      "execution_count": 146,
      "metadata": {},
      "outputs": [
        {
          "data": {
            "text/html": [
              "<div>\n",
              "<style scoped>\n",
              "    .dataframe tbody tr th:only-of-type {\n",
              "        vertical-align: middle;\n",
              "    }\n",
              "\n",
              "    .dataframe tbody tr th {\n",
              "        vertical-align: top;\n",
              "    }\n",
              "\n",
              "    .dataframe thead th {\n",
              "        text-align: right;\n",
              "    }\n",
              "</style>\n",
              "<table border=\"1\" class=\"dataframe\">\n",
              "  <thead>\n",
              "    <tr style=\"text-align: right;\">\n",
              "      <th></th>\n",
              "      <th>Plant ID</th>\n",
              "      <th>Country/Area</th>\n",
              "      <th>Nominal crude steel capacity (ttpa)</th>\n",
              "      <th>Status</th>\n",
              "    </tr>\n",
              "  </thead>\n",
              "  <tbody>\n",
              "    <tr>\n",
              "      <th>1</th>\n",
              "      <td>P100000120439</td>\n",
              "      <td>Algeria</td>\n",
              "      <td>2200</td>\n",
              "      <td>operating</td>\n",
              "    </tr>\n",
              "    <tr>\n",
              "      <th>4</th>\n",
              "      <td>P100000121198</td>\n",
              "      <td>Algeria</td>\n",
              "      <td>800</td>\n",
              "      <td>operating</td>\n",
              "    </tr>\n",
              "    <tr>\n",
              "      <th>5</th>\n",
              "      <td>P100000120440</td>\n",
              "      <td>Algeria</td>\n",
              "      <td>2150</td>\n",
              "      <td>operating</td>\n",
              "    </tr>\n",
              "    <tr>\n",
              "      <th>7</th>\n",
              "      <td>P100000120441</td>\n",
              "      <td>Algeria</td>\n",
              "      <td>6200</td>\n",
              "      <td>operating</td>\n",
              "    </tr>\n",
              "    <tr>\n",
              "      <th>8</th>\n",
              "      <td>P100000120005</td>\n",
              "      <td>Angola</td>\n",
              "      <td>500</td>\n",
              "      <td>operating</td>\n",
              "    </tr>\n",
              "    <tr>\n",
              "      <th>...</th>\n",
              "      <td>...</td>\n",
              "      <td>...</td>\n",
              "      <td>...</td>\n",
              "      <td>...</td>\n",
              "    </tr>\n",
              "    <tr>\n",
              "      <th>1734</th>\n",
              "      <td>P100001045592</td>\n",
              "      <td>Vietnam</td>\n",
              "      <td>552</td>\n",
              "      <td>operating</td>\n",
              "    </tr>\n",
              "    <tr>\n",
              "      <th>1735</th>\n",
              "      <td>P100000121023</td>\n",
              "      <td>Vietnam</td>\n",
              "      <td>500</td>\n",
              "      <td>operating</td>\n",
              "    </tr>\n",
              "    <tr>\n",
              "      <th>1736</th>\n",
              "      <td>P100001045578</td>\n",
              "      <td>Vietnam</td>\n",
              "      <td>1200</td>\n",
              "      <td>operating</td>\n",
              "    </tr>\n",
              "    <tr>\n",
              "      <th>1738</th>\n",
              "      <td>P100000121021</td>\n",
              "      <td>Vietnam</td>\n",
              "      <td>550</td>\n",
              "      <td>operating</td>\n",
              "    </tr>\n",
              "    <tr>\n",
              "      <th>1742</th>\n",
              "      <td>P100000121031</td>\n",
              "      <td>Zimbabwe</td>\n",
              "      <td>600</td>\n",
              "      <td>operating</td>\n",
              "    </tr>\n",
              "  </tbody>\n",
              "</table>\n",
              "<p>815 rows × 4 columns</p>\n",
              "</div>"
            ],
            "text/plain": [
              "           Plant ID Country/Area Nominal crude steel capacity (ttpa)  \\\n",
              "1     P100000120439      Algeria                                2200   \n",
              "4     P100000121198      Algeria                                 800   \n",
              "5     P100000120440      Algeria                                2150   \n",
              "7     P100000120441      Algeria                                6200   \n",
              "8     P100000120005       Angola                                 500   \n",
              "...             ...          ...                                 ...   \n",
              "1734  P100001045592      Vietnam                                 552   \n",
              "1735  P100000121023      Vietnam                                 500   \n",
              "1736  P100001045578      Vietnam                                1200   \n",
              "1738  P100000121021      Vietnam                                 550   \n",
              "1742  P100000121031     Zimbabwe                                 600   \n",
              "\n",
              "         Status  \n",
              "1     operating  \n",
              "4     operating  \n",
              "5     operating  \n",
              "7     operating  \n",
              "8     operating  \n",
              "...         ...  \n",
              "1734  operating  \n",
              "1735  operating  \n",
              "1736  operating  \n",
              "1738  operating  \n",
              "1742  operating  \n",
              "\n",
              "[815 rows x 4 columns]"
            ]
          },
          "execution_count": 146,
          "metadata": {},
          "output_type": "execute_result"
        }
      ],
      "source": [
        "#loading new dataframe\n",
        "df1 = pd.read_excel('Plant-level-data-Global-Iron-and-Steel-Tracker-September-2025-V1.xlsx',sheet_name='Plant capacities and status')\n",
        "df1 =df1[['Plant ID','Country/Area','Nominal crude steel capacity (ttpa)','Status']].dropna().drop_duplicates()\n",
        "df1  =df1[df1['Status']=='operating']\n",
        "df1 = df1[df1['Nominal crude steel capacity (ttpa)']!='>0']\n",
        "df1 = df1[df1['Nominal crude steel capacity (ttpa)']!='1']\n",
        "df1\n"
      ]
    },
    {
      "cell_type": "code",
      "execution_count": 147,
      "metadata": {},
      "outputs": [
        {
          "name": "stdout",
          "output_type": "stream",
          "text": [
            "the average plant capacity is 2459.651533742331\n"
          ]
        }
      ],
      "source": [
        "# What is the average plant capacity ?\n",
        "## Changing the Nominal crude steel capacity (ttpa) from string to numerical values\n",
        "capacity_list = []\n",
        "for el in df1['Nominal crude steel capacity (ttpa)']:\n",
        "    capacity_list.append(int(el))\n",
        "df1['Nominal crude steel capacity (ttpa)']=capacity_list\n",
        "## computing the average\n",
        "print(f\"the average plant capacity is {np.average(capacity_list)}\")\n"
      ]
    },
    {
      "cell_type": "code",
      "execution_count": 148,
      "metadata": {},
      "outputs": [
        {
          "name": "stdout",
          "output_type": "stream",
          "text": [
            "the range of latitudes is minimim latitude:-37.831379,maximum latitude:66.311519 \n",
            "the range of longitudes is minimim longitude:-123.163599,maximum longitude:150.886191 \n"
          ]
        }
      ],
      "source": [
        "# What is the range of latitudes and longitudes?\n",
        "## Merging of the dataframe containing the coordinates from the plant data sheet and the capacity data.\n",
        "a = df[['Plant ID','Parent GEM ID','Coordinates','Plant age (years)']].dropna().drop_duplicates(subset=('Plant ID'))\n",
        "merged_df = pd.merge(df1,a, on='Plant ID', how='inner')\n",
        "## Spliting the coordinates into floats for lat and long\n",
        "def spiliting_coordinates(coordinates):\n",
        "    lat= []\n",
        "    lon=[]\n",
        "    i=0\n",
        "    passed = False \n",
        "    while i <len(coordinates):\n",
        "        if passed ==False and coordinates[i]!=',':\n",
        "            lat.append(coordinates[i])\n",
        "        if passed == True and coordinates[i]!=',':\n",
        "            lon.append(coordinates[i])\n",
        "        if coordinates[i]==',':\n",
        "            passed=True\n",
        "        i+=1\n",
        "    return float(''.join(lat)), float(''.join(lon))\n",
        "## computing the different ranges\n",
        "lat = []\n",
        "lon = []\n",
        "for coor in merged_df['Coordinates']:\n",
        "    la,lo = spiliting_coordinates(coor)\n",
        "    lat.append(la)\n",
        "    lon.append(lo)\n",
        "print(f\"the range of latitudes is minimim latitude:{min(lat)},maximum latitude:{max(lat)} \")\n",
        "print(f\"the range of longitudes is minimim longitude:{min(lon)},maximum longitude:{max(lon)} \")\n"
      ]
    },
    {
      "cell_type": "code",
      "execution_count": 149,
      "metadata": {},
      "outputs": [
        {
          "data": {
            "image/png": "[encoded data removed]",
            "text/plain": [
              "<Figure size 640x480 with 1 Axes>"
            ]
          },
          "metadata": {},
          "output_type": "display_data"
        }
      ],
      "source": [
        "#What is the distribution of plant ages?\n",
        "merged_df['Plant age (years)'] = pd.to_numeric(merged_df['Plant age (years)'], errors='coerce')\n",
        "merged_df['Plant age (years)'].hist(bins=30)\n",
        "plt.xlabel('Plant age (years)')\n",
        "plt.ylabel('Frequency')\n",
        "plt.title('Distribution of Plant age (years)')\n",
        "plt.show()\n"
      ]
    },
    {
      "cell_type": "markdown",
      "metadata": {},
      "source": [
        "### Question 3: Geographic Distribution\n",
        "**Task:** Analyze the geographic distribution of steel plants.\n",
        "- Which countries/regions have the most steel plants?\n",
        "- What is the distribution of plants by company?\n"
      ]
    },
    {
      "cell_type": "code",
      "execution_count": 150,
      "metadata": {},
      "outputs": [
        {
          "data": {
            "text/html": [
              "<div>\n",
              "<style scoped>\n",
              "    .dataframe tbody tr th:only-of-type {\n",
              "        vertical-align: middle;\n",
              "    }\n",
              "\n",
              "    .dataframe tbody tr th {\n",
              "        vertical-align: top;\n",
              "    }\n",
              "\n",
              "    .dataframe thead th {\n",
              "        text-align: right;\n",
              "    }\n",
              "</style>\n",
              "<table border=\"1\" class=\"dataframe\">\n",
              "  <thead>\n",
              "    <tr style=\"text-align: right;\">\n",
              "      <th></th>\n",
              "      <th>Plant ID</th>\n",
              "      <th>Nominal crude steel capacity (ttpa)</th>\n",
              "      <th>Status</th>\n",
              "    </tr>\n",
              "    <tr>\n",
              "      <th>Country/Area</th>\n",
              "      <th></th>\n",
              "      <th></th>\n",
              "      <th></th>\n",
              "    </tr>\n",
              "  </thead>\n",
              "  <tbody>\n",
              "    <tr>\n",
              "      <th>Algeria</th>\n",
              "      <td>4</td>\n",
              "      <td>4</td>\n",
              "      <td>4</td>\n",
              "    </tr>\n",
              "    <tr>\n",
              "      <th>Angola</th>\n",
              "      <td>1</td>\n",
              "      <td>1</td>\n",
              "      <td>1</td>\n",
              "    </tr>\n",
              "    <tr>\n",
              "      <th>Argentina</th>\n",
              "      <td>4</td>\n",
              "      <td>4</td>\n",
              "      <td>4</td>\n",
              "    </tr>\n",
              "    <tr>\n",
              "      <th>Australia</th>\n",
              "      <td>3</td>\n",
              "      <td>3</td>\n",
              "      <td>3</td>\n",
              "    </tr>\n",
              "    <tr>\n",
              "      <th>Austria</th>\n",
              "      <td>2</td>\n",
              "      <td>2</td>\n",
              "      <td>2</td>\n",
              "    </tr>\n",
              "    <tr>\n",
              "      <th>...</th>\n",
              "      <td>...</td>\n",
              "      <td>...</td>\n",
              "      <td>...</td>\n",
              "    </tr>\n",
              "    <tr>\n",
              "      <th>United States</th>\n",
              "      <td>67</td>\n",
              "      <td>67</td>\n",
              "      <td>67</td>\n",
              "    </tr>\n",
              "    <tr>\n",
              "      <th>Uzbekistan</th>\n",
              "      <td>1</td>\n",
              "      <td>1</td>\n",
              "      <td>1</td>\n",
              "    </tr>\n",
              "    <tr>\n",
              "      <th>Venezuela</th>\n",
              "      <td>1</td>\n",
              "      <td>1</td>\n",
              "      <td>1</td>\n",
              "    </tr>\n",
              "    <tr>\n",
              "      <th>Vietnam</th>\n",
              "      <td>20</td>\n",
              "      <td>20</td>\n",
              "      <td>20</td>\n",
              "    </tr>\n",
              "    <tr>\n",
              "      <th>Zimbabwe</th>\n",
              "      <td>1</td>\n",
              "      <td>1</td>\n",
              "      <td>1</td>\n",
              "    </tr>\n",
              "  </tbody>\n",
              "</table>\n",
              "<p>77 rows × 3 columns</p>\n",
              "</div>"
            ],
            "text/plain": [
              "               Plant ID  Nominal crude steel capacity (ttpa)  Status\n",
              "Country/Area                                                        \n",
              "Algeria               4                                    4       4\n",
              "Angola                1                                    1       1\n",
              "Argentina             4                                    4       4\n",
              "Australia             3                                    3       3\n",
              "Austria               2                                    2       2\n",
              "...                 ...                                  ...     ...\n",
              "United States        67                                   67      67\n",
              "Uzbekistan            1                                    1       1\n",
              "Venezuela             1                                    1       1\n",
              "Vietnam              20                                   20      20\n",
              "Zimbabwe              1                                    1       1\n",
              "\n",
              "[77 rows x 3 columns]"
            ]
          },
          "execution_count": 150,
          "metadata": {},
          "output_type": "execute_result"
        }
      ],
      "source": [
        "# Count plants by country/region\n",
        "df1.groupby('Country/Area').count()\n",
        "\n",
        "\n"
      ]
    },
    {
      "cell_type": "code",
      "execution_count": 175,
      "metadata": {},
      "outputs": [
        {
          "name": "stdout",
          "output_type": "stream",
          "text": [
            "[['P100000120004', 'E100000130992', 100.0], ['P100000120439', 'E100000000840', 49.0], ['P100000120439', 'E100000132388', 5.0], ['P100000120439', 'E100001000960', 33.333333333333336], ['P100000120442', 'E100001010275', 100.0], ['P100000121198', 'E100001012196', 100.0], ['P100000120440', 'E100001000960', 100.0], ['P100000120441', 'E100001000709', 100.0], ['P100000120005', 'E100002003632', 100.0], ['P100000121215', 'E100001012406', 50.0], ['P100000121215', 'E100001012405', 50.0], ['P100000120006', 'E100000000687', 100.0], ['P100000120009', 'E100001010270', 98.1], ['P100000120007', 'E100000000692', 100.0], ['P100000120008', 'E100000130688', 100.0], ['P100000120012', 'E100000130689', 100.0], ['P100001043035', 'E100001011127', 100.0], ['P100000120014', 'E100001000556', 100.0], ['P100000120013', 'E100001000556', 100.0], ['P100000120015', 'E100001000556', 100.0], ['P100000120011', 'E100000000031', 100.0], ['P100000120010', 'E100000000031', 100.0], ['P100000121043', 'E100000131003', 50.0], ['P100000121043', 'E100000120241', 50.0], ['P100000120016', 'E100000131003', 100.0], ['P100000120032', 'E100001010196', 49.0], ['P100000120032', 'E100000000675', 25.5], ['P100000120032', 'E100000000840', 12.8], ['P100000120032', 'E100001016326', 5.1], ['P100000120032', 'E100001016328', 5.1], ['P100000120032', 'E100001016329', 2.6], ['P100000120020', 'E100000131048', 100.0], ['P100000120022', 'E100000120118', 100.0], ['P100000120021', 'E100000130854', 100.0], ['P100000120018', 'E100000130987', 100.0], ['P100000120024', 'E100000131041', 100.0], ['P100001042845', 'E100000120835', 100.0], ['P100000120025', 'E100000131025', 100.0], ['P100001042855', 'E100002005773', 100.0], ['P100000120056', 'E100000130960', 100.0], ['P100000120029', 'E100000130966', 100.0], ['P100000120028', 'E100000130966', 100.0], ['P100000120027', 'E100000000687', 100.0], ['P100000120030', 'E100000131000', 100.0], ['P100000121153', 'E100002000080', 100.0], ['P100000120017', 'E100001013687', 100.0], ['P100000120053', 'E100000130966', 100.0], ['P100000120050', 'E100000000687', 97.1], ['P100000120050', 'E100001015587', 2.9], ['P100000120045', 'E100000000687', 97.1], ['P100000120045', 'E100001015587', 2.9], ['P100000120035', 'E100000000687', 97.1], ['P100000120035', 'E100001015587', 2.9], ['P100000120040', 'E100000000687', 97.1], ['P100000120040', 'E100001015587', 2.9], ['P100000120041', 'E100000000687', 97.1], ['P100000120041', 'E100001015587', 2.9], ['P100000120036', 'E100000000687', 97.1], ['P100000120036', 'E100001015587', 2.9], ['P100000120034', 'E100001000507', 100.0], ['P100000120046', 'E100001016289', 100.0], ['P100000120039', 'E100001000652', 100.0], ['P100000120033', 'E100001010270', 100.0], ['P100000120042', 'E100001010270', 99.8], ['P100000120047', 'E100001010270', 99.8], ['P100000120049', 'E100001010270', 99.8], ['P100000120055', 'E100001010270', 100.0], ['P100000120048', 'E100001010270', 99.8], ['P100000120052', 'E100000130728', 100.0], ['P100000120051', 'E100000130728', 100.0], ['P100000121176', 'E100001012181', 80.0], ['P100000121176', 'E100001012182', 20.0], ['P100000120038', 'E100001000384', 100.0], ['P100000120037', 'E100000130691', 100.0], ['P100000120043', 'E100000130691', 100.0], ['P100000121175', 'E100001000480', 100.0], ['P100000120044', 'E100001010324', 100.0], ['P100000120054', 'E100000123261', 25.0], ['P100000120054', 'E100002007562', 25.0], ['P100000120054', 'E100002007563', 25.0], ['P100000120054', 'E100002007564', 25.0], ['P100000120031', 'E100000131005', 100.0], ['P100000121154', 'E100001012105', 100.0], ['P100000120686', 'E100001000472', 100.0], ['P100000120059', 'E100000001817', 100.0], ['P100000120058', 'E100000000687', 100.0], ['P100000120057', 'E100000000687', 100.0], ['P100000120061', 'E100001000649', 100.0], ['P100000120060', 'E100001000663', 100.0], ['P100000120062', 'E100001010270', 98.2], ['P100000120063', 'E100000130934', 100.0], ['P100000120064', 'E100000001119', 100.0], ['P100000120067', 'E100000131059', 25.0], ['P100000120067', 'E100000131168', 25.0], ['P100000120067', 'E100000131169', 25.0], ['P100000120067', 'E100000131163', 25.0], ['P100000120066', 'E100001000728', 100.0], ['P100000120163', 'E100000123261', 65.2], ['P100000120163', 'E100000127609', 15.8], ['P100000120163', 'E100000132388', 10.4], ['P100000120163', 'E100000125158', 8.6], ['P100000120089', 'E100000124667', 60.0], ['P100000120089', 'E100000130687', 18.2], ['P100000120089', 'E100000130686', 17.4], ['P100000120089', 'E100000132388', 4.4], ['P100000120219', 'E100000126769', 100.0], ['P100000120220', 'E100000126769', 100.0], ['P100000120070', 'E100000123737', 55.0], ['P100000120070', 'E100000123261', 37.2], ['P100000120070', 'E100000132388', 7.8], ['P100000120071', 'E100000126525', 100.0], ['P100000120391', 'E100000127607', 100.0], ['P100000120417', 'E100000126157', 100.0], ['P100000120402', 'E100000126133', 100.0], ['P100001025923', 'E100002005337', 100.0], ['P100000120313', 'E100000128793', 89.0], ['P100000120313', 'E100000128301', 7.9], ['P100000120313', 'E100000132388', 3.1], ['P100000120231', 'E100000126417', 100.0], ['P100000120221', 'E100000126769', 100.0], ['P100000120170', 'E100000127613', 90.0], ['P100000120170', 'E100000128836', 6.2], ['P100000120170', 'E100000128827', 1.3], ['P100000120170', 'E100000128828', 1.3], ['P100000120170', 'E100000128829', 1.3], ['P100000120160', 'E100001000432', 100.0], ['P100000120166', 'E100000123261', 49.0], ['P100000120166', 'E100000123185', 34.0], ['P100000120166', 'E100000124295', 17.0], ['P100000120384', 'E100000127199', 100.0], ['P100000120256', 'E100000122571', 100.0], ['P100000120336', 'E100001000472', 70.0], ['P100000120336', 'E100000127616', 30.0], ['P100000120289', 'E100001012045', 100.0], ['P100000120257', 'E100001000472', 100.0], ['P100000120085', 'E100000122571', 90.0], ['P100000120085', 'E100000000194', 10.0], ['P100000121076', 'E100000126820', 100.0], ['P100000121143', 'E100000126606', 100.0], ['P100000120186', 'E100000126606', 100.0], ['P100000121142', 'E100001012095', 100.0], ['P100000120172', 'E100001000472', 75.0], ['P100000120172', 'E100000123746', 25.0], ['P100000120223', 'E100000122467', 100.0], ['P100000120224', 'E100000124667', 46.5], ['P100000120224', 'E100000123998', 27.7], ['P100000120224', 'E100000124666', 8.2], ['P100000120224', 'E100000123999', 7.0], ['P100000120224', 'E100000132388', 6.4], ['P100000120224', 'E100000000155', 2.9], ['P100000120224', 'E100000125132', 1.3], ['P100000120125', 'E100000130609', 49.0], ['P100000120125', 'E100000130610', 25.0], ['P100000120125', 'E100000128544', 15.6], ['P100000120125', 'E100000128537', 9.4], ['P100000120125', 'E100000132388', 1.0], ['P100000120385', 'E100000126397', 100.0], ['P100000120194', 'E100000126408', 100.0], ['P100000120265', 'E100000127287', 100.0], ['P100000120201', 'E100000127958', 90.0], ['P100000120201', 'E100000123261', 10.0], ['P100000120105', 'E100000124529', 100.0], ['P100000120123', 'E100000000155', 90.2], ['P100000120123', 'E100000132388', 9.8], ['P100000120154', 'E100000126686', 100.0], ['P100000120153', 'E100000126962', 100.0], ['P100000120329', 'E100000126710', 100.0], ['P100000120279', 'E100000130585', 45.2], ['P100000120279', 'E100000128912', 14.0], ['P100000120279', 'E100000132388', 11.7], ['P100000120279', 'E100000130256', 9.5], ['P100000120279', 'E100000127991', 8.6], ['P100000120279', 'E100000128913', 6.0], ['P100000120279', 'E100000127992', 5.0], ['P100000120183', 'E100000124246', 90.0], ['P100000120183', 'E100001000468', 10.0], ['P100000120327', 'E100000126512', 83.7], ['P100000120327', 'E100000128365', 16.0], ['P100000120327', 'E100000132388', 0.3], ['P100000121041', 'E100000127077', 100.0], ['P100000120286', 'E100000130417', 59.2], ['P100000120286', 'E100000132388', 40.8], ['P100000120074', 'E100000126559', 100.0], ['P100000120409', 'E100000127146', 100.0], ['P100000120317', 'E100000126259', 100.0], ['P100000120202', 'E100000130432', 67.2], ['P100000120202', 'E100000123261', 32.8], ['P100000120376', 'E100000123261', 56.3], ['P100000120376', 'E100000127570', 21.1], ['P100000120376', 'E100000127571', 18.9], ['P100000120376', 'E100000132388', 3.7], ['P100000120173', 'E100000128047', 100.0], ['P100000121072', 'E100000127570', 100.0], ['P100000121072', 'E100000123261', 100.0], ['P100000120121', 'E100000130417', 100.0], ['P100000120227', 'E100000124038', 42.8], ['P100000120227', 'E100000128285', 31.4], ['P100000120227', 'E100000132388', 15.9], ['P100000120227', 'E100000122467', 9.9], ['P100000120177', 'E100000123176', 62.6], ['P100000120177', 'E100000124849', 9.1], ['P100000120177', 'E100000124850', 6.8], ['P100000120177', 'E100000124851', 4.9], ['P100000120177', 'E100000124852', 4.2], ['P100000120177', 'E100000124853', 3.6], ['P100000120177', 'E100000124854', 2.5], ['P100000120177', 'E100000124855', 2.4], ['P100000120177', 'E100000124856', 1.9], ['P100000120177', 'E100000132388', 1.9], ['P100000120371', 'E100000123190', 100.0], ['P100000120211', 'E100000126116', 100.0], ['P100000120345', 'E100000123166', 100.0], ['P100000120314', 'E100000126260', 100.0], ['P100000121065', 'E100000128090', 36.4], ['P100000121065', 'E100000132388', 20.4], ['P100000121065', 'E100000128088', 19.8], ['P100000121065', 'E100000128539', 15.6], ['P100000121065', 'E100000128291', 7.8], ['P100000120416', 'E100000126680', 100.0], ['P100000121066', 'E100000130641', 58.3], ['P100000121066', 'E100000125857', 41.6], ['P100000120413', 'E100000126717', 100.0], ['P100000120080', 'E100000124862', 53.4], ['P100000120080', 'E100000132388', 46.6], ['P100000120392', 'E100000128090', 51.6], ['P100000120392', 'E100000132388', 23.1], ['P100000120392', 'E100000128088', 19.7], ['P100000120392', 'E100000128539', 5.6], ['P100000120077', 'E100000124862', 53.4], ['P100000120077', 'E100000132388', 46.6], ['P100000120078', 'E100000128113', 100.0], ['P100000120081', 'E100000128090', 34.7], ['P100000120081', 'E100000128088', 30.5], ['P100000120081', 'E100000132388', 26.1], ['P100000120081', 'E100000128539', 8.7], ['P100000121064', 'E100000127616', 38.2], ['P100000121064', 'E100000128115', 36.8], ['P100000121064', 'E100000130640', 25.0], ['P100000120079', 'E100000123261', 38.4], ['P100000120079', 'E100000132388', 23.2], ['P100000120079', 'E100000130639', 20.7], ['P100000120079', 'E100000130294', 17.7], ['P100000120351', 'E100000130419', 99.0], ['P100000120351', 'E100000132388', 1.0], ['P100000120226', 'E100000000155', 63.2], ['P100000120226', 'E100000125132', 29.3], ['P100000120226', 'E100000132388', 7.5], ['P100000120228', 'E100000126378', 100.0], ['P100000120358', 'E100000123261', 66.2], ['P100000120358', 'E100000127616', 33.8], ['P100000120082', 'E100000127239', 100.0], ['P100000120087', 'E100000127962', 48.9], ['P100000120087', 'E100000128090', 17.0], ['P100000120087', 'E100000132388', 16.9], ['P100000120087', 'E100000128088', 13.4], ['P100000120087', 'E100000128539', 3.8], ['P100000120362', 'E100000124668', 100.0], ['P100000120319', 'E100000128591', 25.2], ['P100000120319', 'E100000132388', 14.9], ['P100000120319', 'E100000123261', 13.9], ['P100000120319', 'E100000128858', 12.5], ['P100000120319', 'E100000124854', 5.8], ['P100000120319', 'E100000128594', 5.0], ['P100000120319', 'E100000124851', 3.3], ['P100000120319', 'E100000128595', 1.9], ['P100000120319', 'E100000124852', 1.8], ['P100000120319', 'E100000124853', 1.8], ['P100000120319', 'E100000124856', 1.8], ['P100000120319', 'E100000128596', 1.8], ['P100000120319', 'E100000128597', 1.7], ['P100000120319', 'E100000128967', 1.4], ['P100000120319', 'E100000128969', 1.4], ['P100000120319', 'E100000128968', 1.4], ['P100000120319', 'E100000124850', 1.4], ['P100000120319', 'E100000124849', 1.4], ['P100000120319', 'E100000128966', 1.4], ['P100000120380', 'E100000123219', 70.0], ['P100000120380', 'E100000123261', 30.0], ['P100000120361', 'E100000127965', 100.0], ['P100000121044', 'E100000124668', 100.0], ['P100000121071', 'E100000128562', 62.5], ['P100000121071', 'E100000128563', 37.5], ['P100000120093', 'E100000127970', 100.0], ['P100000120370', 'E100000123190', 100.0], ['P100000120398', 'E100000127971', 50.0], ['P100000120398', 'E100000123261', 35.0], ['P100000120398', 'E100000127972', 15.0], ['P100000121140', 'E100000127971', 50.0], ['P100000121140', 'E100000123261', 35.0], ['P100000121140', 'E100000127972', 15.0], ['P100000120395', 'E100000127974', 100.0], ['P100000120095', 'E100000123261', 44.0], ['P100000120095', 'E100000123900', 41.8], ['P100000120095', 'E100000123901', 12.5], ['P100000120095', 'E100000132388', 1.7], ['P100000120363', 'E100000123225', 44.0], ['P100000120363', 'E100000123900', 41.8], ['P100000120363', 'E100000123901', 12.5], ['P100000120363', 'E100000132388', 1.7], ['P100000120368', 'E100000127358', 100.0], ['P100000120394', 'E100001010584', 100.0], ['P100000120397', 'E100000127052', 100.0], ['P100000120306', 'E100000123902', 45.8], ['P100000120306', 'E100000123903', 45.6], ['P100000120306', 'E100001000472', 8.6], ['P100000120374', 'E100000123903', 100.0], ['P100000120393', 'E100000127974', 100.0], ['P100000120094', 'E100000123226', 100.0], ['P100000120369', 'E100000127973', 100.0], ['P100000120367', 'E100000128020', 65.0], ['P100000120367', 'E100000123261', 35.0], ['P100000120098', 'E100000127293', 100.0], ['P100000120364', 'E100000123261', 65.0], ['P100000120364', 'E100000128158', 35.0], ['P100000120360', 'E100000126448', 100.0], ['P100000120097', 'E100000128163', 33.3], ['P100000120097', 'E100000126448', 33.3], ['P100000120097', 'E100000126901', 33.3], ['P100000120102', 'E100000124529', 100.0], ['P100000120326', 'E100000124529', 100.0], ['P100000120334', 'E100000126573', 100.0], ['P100000120315', 'E100000123542', 69.1], ['P100000120315', 'E100000124529', 7.7], ['P100000120315', 'E100000128826', 7.0], ['P100000120315', 'E100000128904', 6.5], ['P100000120315', 'E100000000189', 3.0], ['P100000120315', 'E100000124528', 2.9], ['P100000120315', 'E100000128905', 2.0], ['P100000120315', 'E100000132388', 0.9], ['P100000120315', 'E100000129075', 0.8], ['P100000121045', 'E100000123162', 100.0], ['P100000120135', 'E100000126822', 100.0], ['P100000121249', 'E100000160981', 100.0], ['P100000120119', 'E100000126598', 100.0], ['P100000120151', 'E100000128531', 77.8], ['P100000120151', 'E100000128532', 22.2], ['P100000120323', 'E100000128531', 77.8], ['P100000120323', 'E100000128532', 22.2], ['P100000120378', 'E100000126505', 85.1], ['P100000120378', 'E100000126416', 11.5], ['P100000120378', 'E100000132388', 3.5], ['P100000120117', 'E100000126003', 57.2], ['P100000120117', 'E100000126002', 38.0], ['P100000120117', 'E100000132388', 4.8], ['P100000120350', 'E100000123261', 90.1], ['P100000120350', 'E100001001051', 9.9], ['P100000120307', 'E100000123261', 49.0], ['P100000120307', 'E100000124068', 33.2], ['P100000120307', 'E100000126000', 17.8], ['P100000120113', 'E100000124068', 65.0], ['P100000120113', 'E100000126000', 35.0], ['P100000120145', 'E100000124071', 72.6], ['P100000120145', 'E100000123220', 27.4], ['P100000120325', 'E100000123223', 100.0], ['P100000120150', 'E100000124529', 51.0], ['P100000120150', 'E100000124065', 49.0], ['P100000120328', 'E100000124529', 51.0], ['P100000120328', 'E100000124065', 49.0], ['P100000120324', 'E100000123221', 100.0], ['P100000120149', 'E100000123221', 100.0], ['P100000120115', 'E100000127214', 100.0], ['P100000120136', 'E100000124068', 45.5], ['P100000120136', 'E100000128348', 27.6], ['P100000120136', 'E100000126000', 24.5], ['P100000120136', 'E100000132388', 2.4], ['P100000120133', 'E100000123261', 49.0], ['P100000120133', 'E100000124068', 33.2], ['P100000120133', 'E100000126000', 17.8], ['P100000120142', 'E100000124071', 72.6], ['P100000120142', 'E100000123261', 27.4], ['P100000120138', 'E100000126505', 51.0], ['P100000120138', 'E100000123261', 49.0], ['P100000120137', 'E100000126029', 78.0], ['P100000120137', 'E100000124067', 12.7], ['P100000120137', 'E100000132388', 4.1], ['P100000120130', 'E100000127317', 100.0], ['P100000120099', 'E100000127965', 100.0], ['P100000120111', 'E100000123173', 100.0], ['P100000120131', 'E100000128059', 49.0], ['P100000120131', 'E100000126029', 39.8], ['P100000120131', 'E100000124067', 6.5], ['P100000120131', 'E100000132388', 2.1], ['P100000120401', 'E100000124529', 100.0], ['P100000120311', 'E100000128544', 43.2], ['P100000120311', 'E100000130609', 27.0], ['P100000120311', 'E100000130610', 21.1], ['P100000120311', 'E100000128537', 7.9], ['P100000120311', 'E100000132388', 0.9], ['P100000120157', 'E100000000155', 90.2], ['P100000120157', 'E100000132388', 9.8], ['P100000120331', 'E100001000432', 76.9], ['P100000120331', 'E100000128071', 9.1], ['P100000120331', 'E100000125002', 4.6], ['P100000120331', 'E100000132388', 4.4], ['P100000120331', 'E100000124395', 2.4], ['P100000120331', 'E100000128928', 1.2], ['P100000120331', 'E100000128834', 0.9], ['P100000120331', 'E100001010241', 0.2], ['P100000120331', 'E100000129013', 0.1], ['P100000120331', 'E100000129052', 0.1], ['P100000120331', 'E100000128899', 0.1], ['P100000120331', 'E100000129014', 0.0], ['P100000120331', 'E100000000270', 0.0], ['P100000120331', 'E100000130359', 0.0], ['P100000120331', 'E100000129017', 0.0], ['P100000120169', 'E100000128611', 65.0], ['P100000120169', 'E100000123261', 32.3], ['P100000120169', 'E100000132388', 2.7], ['P100000120167', 'E100000127405', 100.0], ['P100000121086', 'E100000128078', 83.0], ['P100000121086', 'E100000128079', 17.0], ['P100000120164', 'E100000124077', 48.6], ['P100000120164', 'E100000132388', 35.0], ['P100000120164', 'E100000124078', 10.0], ['P100000120164', 'E100000126009', 6.4], ['P100000120168', 'E100000127122', 100.0], ['P100000120180', 'E100000124129', 85.9], ['P100000120180', 'E100000128133', 10.0], ['P100000120180', 'E100000128566', 1.4], ['P100000120180', 'E100000125175', 1.4], ['P100000120180', 'E100000124815', 1.3], ['P100000120180', 'E100000132388', 0.0], ['P100000120091', 'E100000127322', 100.0], ['P100000120090', 'E100000128593', 25.5], ['P100000120090', 'E100000128082', 16.7], ['P100000120090', 'E100000128859', 14.0], ['P100000120090', 'E100000132388', 10.5], ['P100000120090', 'E100000124852', 4.3], ['P100000120090', 'E100000124853', 4.3], ['P100000120090', 'E100000124851', 3.8], ['P100000120090', 'E100000128598', 2.0], ['P100000120090', 'E100000128599', 2.0], ['P100000120090', 'E100000128595', 1.9], ['P100000120090', 'E100000128600', 1.9], ['P100000120090', 'E100000128967', 1.7], ['P100000120090', 'E100000128969', 1.7], ['P100000120090', 'E100000128968', 1.7], ['P100000120090', 'E100000124850', 1.7], ['P100000120090', 'E100000124849', 1.7], ['P100000120090', 'E100000128601', 1.6], ['P100000120090', 'E100000128602', 1.6], ['P100000120090', 'E100000124856', 1.5], ['P100000121139', 'E100000128593', 25.5], ['P100000121139', 'E100000128082', 16.7], ['P100000121139', 'E100000128859', 14.0], ['P100000121139', 'E100000132388', 10.5], ['P100000121139', 'E100000124852', 4.3], ['P100000121139', 'E100000124853', 4.3], ['P100000121139', 'E100000124851', 3.8], ['P100000121139', 'E100000128598', 2.0], ['P100000121139', 'E100000128599', 2.0], ['P100000121139', 'E100000128595', 1.9], ['P100000121139', 'E100000128600', 1.9], ['P100000121139', 'E100000128967', 1.7], ['P100000121139', 'E100000128969', 1.7], ['P100000121139', 'E100000128968', 1.7], ['P100000121139', 'E100000124850', 1.7], ['P100000121139', 'E100000124849', 1.7], ['P100000121139', 'E100000128601', 1.6], ['P100000121139', 'E100000128602', 1.6], ['P100000121139', 'E100000124856', 1.5], ['P100000120396', 'E100000126302', 100.0], ['P100000120229', 'E100000126219', 100.0], ['P100000121042', 'E100000127020', 100.0], ['P100000121047', 'E100000126029', 100.0], ['P100000120176', 'E100000126198', 56.3], ['P100000120176', 'E100000127570', 21.1], ['P100000120176', 'E100000127571', 18.9], ['P100000120176', 'E100000132388', 3.7], ['P100000120318', 'E100000123261', 62.6], ['P100000120318', 'E100000124849', 9.1], ['P100000120318', 'E100000124850', 6.8], ['P100000120318', 'E100000124851', 4.9], ['P100000120318', 'E100000124852', 4.2], ['P100000120318', 'E100000124853', 3.6], ['P100000120318', 'E100000124854', 2.5], ['P100000120318', 'E100000124855', 2.4], ['P100000120318', 'E100000124856', 1.9], ['P100000120318', 'E100000132388', 1.9], ['P100000121070', 'E100000126786', 100.0], ['P100000120343', 'E100000123176', 62.6], ['P100000120343', 'E100000124849', 9.1], ['P100000120343', 'E100000124850', 6.8], ['P100000120343', 'E100000124851', 4.9], ['P100000120343', 'E100000124852', 4.2], ['P100000120343', 'E100000124853', 3.6], ['P100000120343', 'E100000124854', 2.5], ['P100000120343', 'E100000124855', 2.4], ['P100000120343', 'E100000124856', 1.9], ['P100000120343', 'E100000132388', 1.9], ['P100000120415', 'E100000126029', 95.0], ['P100000120415', 'E100000132388', 5.0], ['P100000120179', 'E100000124129', 100.0], ['P100000120178', 'E100000124129', 100.0], ['P100000120184', 'E100000123261', 51.0], ['P100000120184', 'E100000127542', 49.0], ['P100000120182', 'E100000126357', 100.0], ['P100000120185', 'E100000126736', 57.2], ['P100000120185', 'E100000123261', 42.8], ['P100000120355', 'E100000128803', 81.3], ['P100000120355', 'E100000128895', 15.7], ['P100000120355', 'E100000132388', 3.0], ['P100000120390', 'E100000123261', 48.8], ['P100000120390', 'E100000128349', 41.5], ['P100000120390', 'E100000127464', 7.3], ['P100000120390', 'E100000132388', 2.4], ['P100000120187', 'E100000123178', 100.0], ['P100000120418', 'E100000000155', 87.6], ['P100000120418', 'E100000132388', 12.4], ['P100000120196', 'E100000124040', 87.4], ['P100000120196', 'E100000123261', 12.6], ['P100000120199', 'E100000128045', 65.0], ['P100000120199', 'E100000130605', 25.0], ['P100000120199', 'E100000130289', 9.5], ['P100000120199', 'E100000128046', 0.5], ['P100000120349', 'E100000126498', 100.0], ['P100000120386', 'E100000127063', 100.0], ['P100000121138', 'E100001012139', 100.0], ['P100000120189', 'E100000124726', 63.8], ['P100000120189', 'E100000125940', 13.6], ['P100000120189', 'E100000122410', 10.6], ['P100000120189', 'E100000132388', 6.2], ['P100000120189', 'E100000124037', 3.2], ['P100000120189', 'E100000124038', 2.6], ['P100000120195', 'E100000126498', 100.0], ['P100000120207', 'E100000129055', 49.9], ['P100000120207', 'E100000128614', 22.8], ['P100000120207', 'E100000129072', 10.5], ['P100000120207', 'E100000129073', 6.2], ['P100000120207', 'E100000129074', 4.3], ['P100000120207', 'E100000132388', 4.2], ['P100000120207', 'E100000128823', 2.1], ['P100000121136', 'E100001012229', 100.0], ['P100000120198', 'E100000126140', 100.0], ['P100000121050', 'E100000127119', 100.0], ['P100000121144', 'E100001012080', 100.0], ['P100000120205', 'E100000128531', 77.8], ['P100000120205', 'E100000128532', 22.2], ['P100000120347', 'E100000128049', 100.0], ['P100000120191', 'E100000128047', 100.0], ['P100000120159', 'E100000000155', 81.3], ['P100000120159', 'E100000132388', 12.9], ['P100000120159', 'E100000128856', 2.6], ['P100000120159', 'E100000128854', 1.3], ['P100000120159', 'E100000128865', 0.4], ['P100000120159', 'E100000124791', 0.4], ['P100000120159', 'E100000125400', 0.4], ['P100000120159', 'E100000128914', 0.3], ['P100000120159', 'E100000130450', 0.2], ['P100000120159', 'E100000128906', 0.1], ['P100000120159', 'E100000128975', 0.0], ['P100000120159', 'E100000129039', 0.0], ['P100000120159', 'E100000124399', 0.0], ['P100000120159', 'E100000130613', 0.0], ['P100000120159', 'E100001010237', 0.0], ['P100000120159', 'E100000129026', 0.0], ['P100000120159', 'E100001001051', 0.0], ['P100000120159', 'E100000130527', 0.0], ['P100000120159', 'E100000129097', 0.0], ['P100000120159', 'E100000128949', 0.0], ['P100000120159', 'E100000129076', 0.0], ['P100000120159', 'E100000129020', 0.0], ['P100000120159', 'E100000129077', 0.0], ['P100000120159', 'E100000129040', 0.0], ['P100000120159', 'E100000129019', 0.0], ['P100000120159', 'E100000129021', 0.0], ['P100000120159', 'E100000129162', 0.0], ['P100000120159', 'E100000129022', 0.0], ['P100000120159', 'E100000129027', 0.0], ['P100000120159', 'E100000130617', 0.0], ['P100000120159', 'E100000129164', 0.0], ['P100000120159', 'E100000129163', 0.0], ['P100000120159', 'E100000129125', 0.0], ['P100000120158', 'E100000000155', 87.6], ['P100000120158', 'E100000132388', 12.4], ['P100000120215', 'E100000000155', 90.2], ['P100000120215', 'E100000132388', 9.8], ['P100000120218', 'E100000127125', 100.0], ['P100000120389', 'E100000127545', 51.0], ['P100000120389', 'E100000123261', 49.0], ['P100000120388', 'E100000127545', 98.8], ['P100000120388', 'E100000132388', 1.2], ['P100000120217', 'E100000123534', 60.0], ['P100000120217', 'E100000123261', 18.7], ['P100000120217', 'E100000123535', 17.2], ['P100000120217', 'E100000132388', 4.1], ['P100000120373', 'E100000126505', 100.0], ['P100000120273', 'E100000123830', 60.0], ['P100000120273', 'E100000123261', 40.0], ['P100000120132', 'E100000128793', 90.0], ['P100000120132', 'E100000128301', 8.0], ['P100000120132', 'E100000132388', 2.0], ['P100000120120', 'E100000124668', 100.0], ['P100000120175', 'E100000128128', 30.0], ['P100000120175', 'E100000128129', 30.0], ['P100000120175', 'E100000128130', 30.0], ['P100000120175', 'E100000123261', 5.2], ['P100000120175', 'E100000132388', 4.8], ['P100000120276', 'E100000126800', 100.0], ['P100000121252', 'E100002003149', 100.0], ['P100000121057', 'E100000127266', 100.0], ['P100000120083', 'E100000127239', 100.0], ['P100000120213', 'E100000128862', 60.9], ['P100000120213', 'E100000132388', 21.5], ['P100000120213', 'E100000123335', 10.3], ['P100000120213', 'E100000124737', 7.3], ['P100000120254', 'E100000124598', 70.0], ['P100000120254', 'E100000124585', 20.0], ['P100000120254', 'E100000124453', 10.0], ['P100000120156', 'E100000128787', 99.8], ['P100000120156', 'E100000132388', 0.2], ['P100000120344', 'E100000126506', 100.0], ['P100000120181', 'E100000128565', 49.6], ['P100000120181', 'E100000132388', 28.6], ['P100000120181', 'E100000127514', 15.0], ['P100000120181', 'E100000128282', 5.4], ['P100000120181', 'E100000127515', 1.4], ['P100000120192', 'E100000130645', 42.7], ['P100000120192', 'E100000128818', 18.5], ['P100000120192', 'E100000128947', 14.5], ['P100000120192', 'E100000130337', 9.3], ['P100000120192', 'E100000132388', 4.3], ['P100000120192', 'E100000125940', 3.4], ['P100000120192', 'E100000128820', 3.2], ['P100000120192', 'E100000122410', 2.7], ['P100000120192', 'E100000124037', 0.8], ['P100000120192', 'E100000124038', 0.6], ['P100000121078', 'E100000127135', 100.0], ['P100000120197', 'E100000123183', 100.0], ['P100000120348', 'E100000126647', 100.0], ['P100000120333', 'E100000126207', 100.0], ['P100000121051', 'E100000126978', 100.0], ['P100000120269', 'E100000126125', 100.0], ['P100000120225', 'E100000126754', 100.0], ['P100000120330', 'E100000000234', 74.4], ['P100000120330', 'E100000125831', 16.7], ['P100000120330', 'E100000124453', 8.3], ['P100000120330', 'E100000132388', 0.7], ['P100000120250', 'E100000123768', 100.0], ['P100000120399', 'E100000127001', 100.0], ['P100000120092', 'E100000123902', 100.0], ['P100000120382', 'E100000126498', 100.0], ['P100000120412', 'E100000126284', 100.0], ['P100000120383', 'E100000126383', 100.0], ['P100000120335', 'E100000128540', 70.0], ['P100000120335', 'E100000128084', 30.0], ['P100000120260', 'E100000124790', 48.0], ['P100000120260', 'E100000000155', 45.5], ['P100000120260', 'E100000132388', 6.5], ['P100000120069', 'E100000123737', 100.0], ['P100001046616', 'E100000128803', 81.3], ['P100001046616', 'E100000128895', 15.7], ['P100001046616', 'E100000132388', 3.0], ['P100000120339', 'E100000123261', 66.7], ['P100000120339', 'E100000124295', 33.3], ['P100000120190', 'E100000123506', 100.0], ['P100000120165', 'E100000127544', 100.0], ['P100000120400', 'E100000126616', 100.0], ['P100000120305', 'E100000127605', 100.0], ['P100000121148', 'E100001012201', 100.0], ['P100000120232', 'E100000127604', 79.0], ['P100000120232', 'E100000123261', 21.0], ['P100000121052', 'E100000000155', 90.2], ['P100000121052', 'E100000132388', 9.8], ['P100000120411', 'E100000126717', 100.0], ['P100000121080', 'E100000124667', 100.0], ['P100000120277', 'E100000124667', 100.0], ['P100000120278', 'E100000124667', 100.0], ['P100000120387', 'E100000000155', 90.2], ['P100000120387', 'E100000132388', 9.8], ['P100000120212', 'E100000128862', 60.9], ['P100000120212', 'E100000132388', 21.5], ['P100000120212', 'E100000123335', 10.3], ['P100000120212', 'E100000124737', 7.3], ['P100000120206', 'E100000000953', 82.5], ['P100000120206', 'E100000125940', 6.6], ['P100000120206', 'E100000122410', 5.1], ['P100000120206', 'E100000132388', 3.0], ['P100000120206', 'E100000124037', 1.5], ['P100000120206', 'E100000124038', 1.2], ['P100000120110', 'E100000123190', 100.0], ['P100000120100', 'E100001010697', 100.0], ['P100000120239', 'E100000128047', 100.0], ['P100000120372', 'E100000128122', 100.0], ['P100000120152', 'E100000126509', 100.0], ['P100000120304', 'E100000128134', 81.5], ['P100000120304', 'E100000130615', 18.5], ['P100000120240', 'E100000124688', 98.8], ['P100000120240', 'E100000132388', 1.2], ['P100000120222', 'E100000124688', 98.8], ['P100000120222', 'E100000132388', 1.2], ['P100000120076', 'E100000124862', 53.4], ['P100000120076', 'E100000132388', 46.6], ['P100000120084', 'E100001010583', 100.0], ['P100000121056', 'E100000127041', 100.0], ['P100000120237', 'E100000126275', 100.0], ['P100000120234', 'E100001000403', 95.9], ['P100000120234', 'E100000132388', 4.1], ['P100000120236', 'E100000128286', 52.1], ['P100000120236', 'E100000124716', 18.6], ['P100000120236', 'E100000128251', 17.6], ['P100000120236', 'E100000130261', 11.1], ['P100000120236', 'E100000132388', 0.5], ['P100000120235', 'E100001000403', 85.8], ['P100000120235', 'E100000124716', 8.9], ['P100000120235', 'E100000132388', 5.3], ['P100000120162', 'E100000125940', 27.4], ['P100000120162', 'E100000122410', 21.3], ['P100000120162', 'E100000128493', 16.8], ['P100000120162', 'E100000132388', 12.4], ['P100000120162', 'E100000128710', 10.5], ['P100000120162', 'E100000124037', 6.4], ['P100000120162', 'E100000124038', 5.2], ['P100000120243', 'E100000126592', 100.0], ['P100000120249', 'E100000128405', 93.3], ['P100000120249', 'E100000132388', 6.7], ['P100000120241', 'E100000123261', 89.3], ['P100000120241', 'E100000123774', 10.7], ['P100000121150', 'E100000126101', 100.0], ['P100000120337', 'E100000126101', 100.0], ['P100000120312', 'E100000126101', 50.6], ['P100000120312', 'E100000124598', 34.0], ['P100000120312', 'E100000124585', 9.7], ['P100000120312', 'E100000124453', 4.9], ['P100000120312', 'E100000132388', 0.8], ['P100000120414', 'E100000124596', 47.2], ['P100000120414', 'E100000124598', 28.4], ['P100000120414', 'E100000124595', 12.2], ['P100000120414', 'E100000124585', 8.1], ['P100000120414', 'E100000124453', 4.1], ['P100000120238', 'E100000124598', 35.0], ['P100000120238', 'E100000124596', 34.7], ['P100000120238', 'E100000124595', 15.3], ['P100000120238', 'E100000124585', 10.0], ['P100000120238', 'E100000124453', 5.0], ['P100000120255', 'E100000124596', 55.5], ['P100000120255', 'E100000124598', 24.1], ['P100000120255', 'E100000124595', 10.1], ['P100000120255', 'E100000124585', 6.9], ['P100000120255', 'E100000124453', 3.4], ['P100000120251', 'E100000124688', 50.0], ['P100000120251', 'E100000123261', 30.4], ['P100000120251', 'E100000132388', 19.7], ['P100000120248', 'E100000127670', 49.0], ['P100000120248', 'E100000132388', 39.6], ['P100000120248', 'E100000123261', 11.4], ['P100000120252', 'E100000126462', 100.0], ['P100000120247', 'E100000123261', 44.4], ['P100000120247', 'E100000132388', 15.3], ['P100000120247', 'E100000127633', 13.4], ['P100000120247', 'E100000127634', 10.4], ['P100000120247', 'E100000128411', 8.3], ['P100000120247', 'E100000128412', 3.2], ['P100000120247', 'E100000128414', 2.5], ['P100000120247', 'E100000128413', 2.5], ['P100000120245', 'E100000127646', 91.0], ['P100000120245', 'E100000127647', 9.0], ['P100000121146', 'E100001012231', 100.0], ['P100000120210', 'E100000122571', 77.0], ['P100000120210', 'E100001001051', 9.1], ['P100000120210', 'E100000123243', 7.0], ['P100000120210', 'E100000000238', 6.8], ['P100000120270', 'E100000126829', 100.0], ['P100000121152', 'E100001012232', 100.0], ['P100000120268', 'E100000123199', 100.0], ['P100000120266', 'E100000123200', 100.0], ['P100000120406', 'E100000126753', 100.0], ['P100000120267', 'E100000126638', 100.0], ['P100000120274', 'E100000000155', 87.6], ['P100000120274', 'E100000132388', 12.4], ['P100000120316', 'E100000123828', 100.0], ['P100000120262', 'E100000126363', 100.0], ['P100000120308', 'E100000123821', 50.0], ['P100000120308', 'E100001010236', 48.0], ['P100000120308', 'E100000132388', 2.0], ['P100000121151', 'E100000123821', 50.0], ['P100000121151', 'E100001010236', 48.0], ['P100000121151', 'E100000132388', 2.0], ['P100000120258', 'E100000122948', 100.0], ['P100000120264', 'E100000123840', 51.4], ['P100000120264', 'E100000123261', 48.6], ['P100000121087', 'E100000001663', 28.7], ['P100000121087', 'E100000128383', 26.0], ['P100000121087', 'E100000128384', 25.0], ['P100000121087', 'E100000123329', 14.8], ['P100000121087', 'E100000001543', 3.2], ['P100000121087', 'E100000132388', 2.3], ['P100000120261', 'E100000127791', 100.0], ['P100000120271', 'E100000127019', 100.0], ['P100000120259', 'E100000122988', 100.0], ['P100000120246', 'E100000124166', 54.7], ['P100000120246', 'E100000126043', 22.0], ['P100000120246', 'E100000132388', 15.9], ['P100000120246', 'E100000126042', 7.4], ['P100000120103', 'E100000124529', 74.7], ['P100000120103', 'E100000130636', 24.9], ['P100000120103', 'E100000132388', 0.4], ['P100000120322', 'E100000124529', 74.7], ['P100000120322', 'E100000130636', 24.9], ['P100000120322', 'E100000132388', 0.4], ['P100000121073', 'E100000127543', 50.8], ['P100000121073', 'E100000123261', 49.2], ['P100000121074', 'E100000127356', 100.0], ['P100000120275', 'E100000000158', 90.0], ['P100000120275', 'E100000128277', 10.0], ['P100000121067', 'E100000000158', 70.0], ['P100000121067', 'E100000124909', 29.7], ['P100000121067', 'E100000132388', 0.3], ['P100000120106', 'E100000124355', 100.0], ['P100000120107', 'E100000124355', 100.0], ['P100000120096', 'E100000000158', 61.1], ['P100000120096', 'E100000123273', 16.2], ['P100000120096', 'E100000123329', 13.2], ['P100000120096', 'E100000132388', 9.6], ['P100000120377', 'E100000128862', 69.3], ['P100000120377', 'E100000132388', 24.6], ['P100000120377', 'E100000123329', 6.1], ['P100000120075', 'E100000128691', 49.0], ['P100000120075', 'E100000123261', 26.8], ['P100000120075', 'E100000126976', 14.0], ['P100000120075', 'E100000127448', 10.2], ['P100000120375', 'E100000127559', 85.0], ['P100000120375', 'E100000127560', 15.0], ['P100000121058', 'E100000126282', 100.0], ['P100000120320', 'E100000126639', 100.0], ['P100000121059', 'E100000126975', 100.0], ['P100000120147', 'E100000123205', 84.2], ['P100000120147', 'E100000123261', 15.8], ['P100000120122', 'E100000123190', 51.0], ['P100000120122', 'E100000130417', 49.0], ['P100000120146', 'E100000123219', 100.0], ['P100000120108', 'E100000123205', 100.0], ['P100000120128', 'E100001010698', 100.0], ['P100000120118', 'E100000125875', 76.3], ['P100000120118', 'E100000123550', 23.7], ['P100000120379', 'E100000125875', 61.0], ['P100000120379', 'E100000126403', 20.0], ['P100000120379', 'E100000123550', 19.0], ['P100000120144', 'E100000126403', 100.0], ['P100000120101', 'E100000124529', 100.0], ['P100000120124', 'E100000000155', 90.2], ['P100000120124', 'E100000132388', 9.8], ['P100000120141', 'E100000126512', 100.0], ['P100000120127', 'E100000123542', 51.0], ['P100000120127', 'E100000125872', 25.1], ['P100000120127', 'E100000123543', 23.9], ['P100000120109', 'E100000123207', 100.0], ['P100000120112', 'E100000126987', 100.0], ['P100000121141', 'E100000124529', 68.9], ['P100000121141', 'E100000125333', 23.9], ['P100000121141', 'E100000132388', 7.2], ['P100000120126', 'E100000124529', 68.9], ['P100000120126', 'E100000125333', 23.9], ['P100000120126', 'E100000132388', 7.2], ['P100000120148', 'E100000125872', 62.5], ['P100000120148', 'E100000123543', 36.4], ['P100000120148', 'E100000132388', 1.2], ['P100000120139', 'E100000000155', 43.3], ['P100000120139', 'E100000125875', 38.9], ['P100000120139', 'E100000123550', 12.1], ['P100000120139', 'E100000132388', 5.7], ['P100000120140', 'E100000126949', 100.0], ['P100000120341', 'E100000130417', 60.0], ['P100000120341', 'E100000127556', 40.0], ['P100000120342', 'E100000127360', 100.0], ['P100000120281', 'E100000130417', 59.2], ['P100000120281', 'E100000132388', 40.8], ['P100000120280', 'E100000130417', 59.2], ['P100000120280', 'E100000132388', 40.8], ['P100000120287', 'E100000130417', 59.2], ['P100000120287', 'E100000132388', 40.8], ['P100000120284', 'E100000130417', 59.2], ['P100000120284', 'E100000132388', 40.8], ['P100000120282', 'E100000128047', 51.0], ['P100000120282', 'E100000129042', 12.0], ['P100000120282', 'E100000123243', 9.6], ['P100000120282', 'E100000126073', 8.9], ['P100000120282', 'E100000129043', 8.6], ['P100000120282', 'E100000129105', 3.2], ['P100000120282', 'E100000132388', 2.4], ['P100000120282', 'E100000130351', 2.4], ['P100000120282', 'E100000129106', 1.6], ['P100000120282', 'E100000129189', 0.0], ['P100000120282', 'E100000000282', 0.0], ['P100000120282', 'E100000129190', 0.0], ['P100000120282', 'E100000129188', 0.0], ['P100000120283', 'E100000123712', 77.8], ['P100000120283', 'E100000123261', 17.9], ['P100000120283', 'E100000132388', 4.2], ['P100001023535', 'E100000127360', 100.0], ['P100001023535', 'E100001012092', 100.0], ['P100000121081', 'E100001012092', 100.0], ['P100000120285', 'E100000126387', 100.0], ['P100000120288', 'E100000127588', 100.0], ['P100000120216', 'E100000000158', 56.2], ['P100000120216', 'E100000132388', 16.9], ['P100000120216', 'E100000000220', 8.3], ['P100000120216', 'E100001000437', 8.1], ['P100000120216', 'E100000124428', 6.5], ['P100000120216', 'E100000128355', 0.9], ['P100000120216', 'E100000130509', 0.9], ['P100000120216', 'E100000128994', 0.6], ['P100000120216', 'E100000128732', 0.6], ['P100000120216', 'E100000128734', 0.5], ['P100000120216', 'E100000128735', 0.3], ['P100000120216', 'E100000128911', 0.1], ['P100000120072', 'E100000127154', 100.0], ['P100000120356', 'E100000128611', 96.0], ['P100000120356', 'E100000132388', 4.0], ['P100000121137', 'E100001012068', 100.0], ['P100000120244', 'E100000128568', 100.0], ['P100000120296', 'E100001012225', 100.0], ['P100000120297', 'E100001000472', 48.4], ['P100000120297', 'E100000128516', 40.3], ['P100000120297', 'E100000132388', 4.2], ['P100000120299', 'E100001012225', 100.0], ['P100000120298', 'E100001000472', 48.4], ['P100000120298', 'E100000128516', 40.3], ['P100000120298', 'E100000132388', 4.2], ['P100000121069', 'E100001000472', 100.0], ['P100000120134', 'E100000123223', 100.0], ['P100000120114', 'E100000126505', 88.1], ['P100000120114', 'E100000123261', 11.9], ['P100000121085', 'E100001012138', 100.0], ['P100000120357', 'E100000128126', 75.0], ['P100000120357', 'E100000130646', 25.0], ['P100000120340', 'E100000000155', 59.2], ['P100000120340', 'E100000127439', 32.8], ['P100000120340', 'E100000132388', 8.1], ['P100000120171', 'E100000122571', 100.0], ['P100000120174', 'E100000123261', 83.0], ['P100000120174', 'E100000128040', 17.0], ['P100000120073', 'E100000126149', 100.0], ['P100000120068', 'E100000127965', 100.0], ['P100000120354', 'E100000124668', 100.0], ['P100000120204', 'E100000126287', 100.0], ['P100000120161', 'E100000124529', 53.1], ['P100000120161', 'E100001000472', 27.7], ['P100000120161', 'E100000123273', 8.3], ['P100000120161', 'E100000123542', 8.1], ['P100000120161', 'E100000132388', 2.8], ['P100000120365', 'E100000126779', 100.0], ['P100000120366', 'E100000126779', 100.0], ['P100000120263', 'E100000127121', 100.0], ['P100000120272', 'E100000128135', 64.1], ['P100000120272', 'E100000123261', 32.8], ['P100000120272', 'E100000132388', 3.2], ['P100000120116', 'E100000128173', 48.1], ['P100000120116', 'E100000130666', 26.0], ['P100000120116', 'E100000128174', 25.9], ['P100000121135', 'E100000128173', 48.1], ['P100000121135', 'E100000130666', 26.0], ['P100000121135', 'E100000128174', 25.9], ['P100000120233', 'E100000126834', 100.0], ['P100000120155', 'E100000123213', 100.0], ['P100000120295', 'E100001010586', 100.0], ['P100001023534', 'E100002004335', 100.0], ['P100000120290', 'E100000128679', 66.0], ['P100000120290', 'E100000128360', 32.8], ['P100000120290', 'E100000132388', 1.2], ['P100000120292', 'E100000124166', 54.7], ['P100000120292', 'E100000126043', 22.0], ['P100000120292', 'E100000132388', 15.9], ['P100000120292', 'E100000126042', 7.4], ['P100000120410', 'E100000128014', 100.0], ['P100000120291', 'E100001000472', 79.3], ['P100000120291', 'E100000123578', 5.2], ['P100000120291', 'E100000000220', 5.0], ['P100000120291', 'E100000124428', 3.8], ['P100000120291', 'E100000000151', 3.6], ['P100000120291', 'E100000132388', 3.0], ['P100000120294', 'E100000127096', 100.0], ['P100000120293', 'E100001010587', 100.0], ['P100000120214', 'E100000123215', 100.0], ['P100000120242', 'E100000130659', 99.6], ['P100000120242', 'E100000132388', 0.4], ['P100000120104', 'E100001012054', 100.0], ['P100000120200', 'E100000123261', 89.6], ['P100000120200', 'E100000127988', 10.0], ['P100000120200', 'E100000132388', 0.5], ['P100000120381', 'E100000126452', 100.0], ['P100000120208', 'E100000126916', 100.0], ['P100000120310', 'E100000128098', 80.4], ['P100000120310', 'E100000123261', 19.6], ['P100000120088', 'E100000124129', 51.0], ['P100000120088', 'E100000128133', 24.7], ['P100000120088', 'E100000132388', 14.1], ['P100000120088', 'E100000128566', 3.6], ['P100000120088', 'E100000125175', 3.5], ['P100000120088', 'E100000124815', 3.1], ['P100000121048', 'E100000123216', 100.0], ['P100000120203', 'E100000126361', 100.0], ['P100000120253', 'E100000130629', 75.0], ['P100000120253', 'E100000130494', 4.6], ['P100000120253', 'E100001010247', 33.333333333333336], ['P100000121075', 'E100000127615', 50.0], ['P100000121075', 'E100000123261', 50.0], ['P100000120230', 'E100000128131', 84.6], ['P100000120230', 'E100000123243', 14.3], ['P100000120230', 'E100000132388', 1.2], ['P100000120301', 'E100000128691', 49.0], ['P100000120301', 'E100000123261', 29.5], ['P100000120301', 'E100000127448', 21.5], ['P100000120353', 'E100000124668', 100.0], ['P100000120302', 'E100000128309', 25.0], ['P100000120302', 'E100001000471', 25.0], ['P100000120302', 'E100000128963', 16.6], ['P100000120302', 'E100000128311', 16.0], ['P100000120302', 'E100000128312', 8.0], ['P100000120302', 'E100000128964', 5.5], ['P100000120302', 'E100000128965', 1.7], ['P100000120302', 'E100000132388', 1.0], ['P100000120302', 'E100000128938', 0.9], ['P100000120302', 'E100000128939', 0.4], ['P100000120303', 'E100000128309', 25.0], ['P100000120303', 'E100001000471', 25.0], ['P100000120303', 'E100000128963', 16.6], ['P100000120303', 'E100000128311', 16.0], ['P100000120303', 'E100000128312', 8.0], ['P100000120303', 'E100000128964', 5.5], ['P100000120303', 'E100000128965', 1.7], ['P100000120303', 'E100000132388', 1.0], ['P100000120303', 'E100000128938', 0.9], ['P100000120303', 'E100000128939', 0.4], ['P100000120407', 'E100000128309', 25.0], ['P100000120407', 'E100001000471', 25.0], ['P100000120407', 'E100000128963', 16.6], ['P100000120407', 'E100000128311', 16.0], ['P100000120407', 'E100000128312', 8.0], ['P100000120407', 'E100000128964', 5.5], ['P100000120407', 'E100000128965', 1.7], ['P100000120407', 'E100000132388', 1.0], ['P100000120407', 'E100000128938', 0.9], ['P100000120407', 'E100000128939', 0.4], ['P100000120352', 'E100000127446', 63.9], ['P100000120352', 'E100000132388', 29.8], ['P100000120352', 'E100000127447', 6.2], ['P100000120300', 'E100001000458', 100.0], ['P100000120321', 'E100001000455', 100.0], ['P100000120193', 'E100000123285', 100.0], ['P100000120332', 'E100000123285', 100.0], ['P100000120188', 'E100000125940', 28.2], ['P100000120188', 'E100000130574', 25.0], ['P100000120188', 'E100000122410', 22.0], ['P100000120188', 'E100000132388', 12.8], ['P100000120188', 'E100000124037', 6.6], ['P100000120188', 'E100000124038', 5.4], ['P100000121049', 'E100000127986', 37.0], ['P100000121049', 'E100000130575', 25.0], ['P100000121049', 'E100000125940', 14.3], ['P100000121049', 'E100000122410', 11.1], ['P100000121049', 'E100000132388', 6.5], ['P100000121049', 'E100000124037', 3.4], ['P100000121049', 'E100000124038', 2.7], ['P100000121084', 'E100000132388', 32.4], ['P100000121084', 'E100000128088', 30.0], ['P100000121084', 'E100000128090', 23.0], ['P100000121084', 'E100000128539', 8.6], ['P100000121084', 'E100000123261', 6.0], ['P100000120408', 'E100000126443', 100.0], ['P100000120404', 'E100000127054', 100.0], ['P100000121068', 'E100000130667', 100.0], ['P100000121082', 'E100000127998', 70.3], ['P100000121082', 'E100000128497', 23.9], ['P100000121082', 'E100000132388', 4.5], ['P100000121082', 'E100000130601', 1.3], ['P100000120129', 'E100000126000', 66.8], ['P100000120129', 'E100000124068', 33.2], ['P100000120209', 'E100000123218', 100.0], ['P100000120346', 'E100000127415', 65.0], ['P100000120346', 'E100000125333', 18.0], ['P100000120346', 'E100000123261', 15.0], ['P100000120346', 'E100000132388', 2.0], ['P100000120086', 'E100001010239', 41.5], ['P100000120086', 'E100001010246', 41.5], ['P100000120086', 'E100000130634', 16.9], ['P100000121079', 'E100000124688', 50.4], ['P100000121079', 'E100000128091', 25.0], ['P100000121079', 'E100000123261', 24.0], ['P100000121079', 'E100000132388', 0.6], ['P100000120403', 'E100000123261', 45.0], ['P100000120403', 'E100000128172', 41.9], ['P100000120403', 'E100000132388', 6.7], ['P100000120403', 'E100000127571', 6.4], ['P100000120359', 'E100000126901', 100.0], ['P100000120420', 'E100001000556', 100.0], ['P100000120419', 'E100001016230', 100.0], ['P100001045209', 'E100002007869', 100.0], ['P100000120446', 'E100000130693', 100.0], ['P100000121213', 'E100000131157', 100.0], ['P100000120443', 'E100000131009', 50.0], ['P100000120443', 'E100002006462', 50.0], ['P100000120444', 'E100000130694', 100.0], ['P100000120445', 'E100002006462', 24.0], ['P100000120445', 'E100000131009', 50.0], ['P100000120450', 'E100000130693', 18.0], ['P100000120450', 'E100000131084', 50.0], ['P100000120451', 'E100000130693', 18.0], ['P100000120451', 'E100000131084', 50.0], ['P100000120447', 'E100000130695', 64.1], ['P100000120447', 'E100000132388', 35.9], ['P100000120448', 'E100000130695', 100.0], ['P100001044924', 'E100002008184', 100.0], ['P100001044904', 'E100002007590', 100.0], ['P100000121218', 'E100000132388', 100.0], ['P100000120449', 'E100001016170', 100.0], ['P100000121233', 'E100001012768', 100.0], ['P100000121220', 'E100001012049', 16.666666666666668], ['P100000121220', 'E100001012050', 16.666666666666668], ['P100000121220', 'E100001012051', 16.666666666666668], ['P100000121220', 'E100001012052', 16.666666666666668], ['P100000121220', 'E100001000177', 16.666666666666668], ['P100000121220', 'E100000137052', 16.666666666666668], ['P100000120469', 'E100001016231', 15.5], ['P100000120469', 'E100001015587', 50.0], ['P100000120470', 'E100000130712', 100.0], ['P100000120468', 'E100000001651', 100.0], ['P100000120472', 'E100001000487', 100.0], ['P100000120475', 'E100001000487', 100.0], ['P100000120473', 'E100000000687', 100.0], ['P100000121234', 'E100000130745', 100.0], ['P100000120474', 'E100002003621', 16.666666666666668], ['P100000120474', 'E100002003627', 16.666666666666668], ['P100000120474', 'E100002003626', 16.666666666666668], ['P100000120474', 'E100000136992', 16.666666666666668], ['P100000120474', 'E100002003622', 16.666666666666668], ['P100000120474', 'E100002003624', 16.666666666666668], ['P100000121177', 'E100001000556', 100.0], ['P100000120476', 'E100001016199', 73.7], ['P100000120476', 'E100000132388', 26.3], ['P100000121235', 'E100002001198', 50.0], ['P100000121235', 'E100002001199', 50.0], ['P100000120481', 'E100000131000', 100.0], ['P100000120480', 'E100000131000', 100.0], ['P100000120478', 'E100000131000', 100.0], ['P100000120479', 'E100000131000', 100.0], ['P100000120477', 'E100001016169', 74.9], ['P100000120477', 'E100000132388', 26.1], ['P100000120423', 'E100001016169', 49.0], ['P100000120423', 'E100000000687', 28.7], ['P100000120423', 'E100000132388', 13.1], ['P100000120426', 'E100000000687', 100.0], ['P100000120428', 'E100000000687', 100.0], ['P100000120425', 'E100000000687', 100.0], ['P100000120427', 'E100000000687', 100.0], ['P100000120435', 'E100000130970', 100.0], ['P100000120434', 'E100001000652', 100.0], ['P100000120438', 'E100000130769', 100.0], ['P100000120436', 'E100000130894', 100.0], ['P100001045310', 'E100002008127', 100.0], ['P100000120422', 'E100000004212', 40.0], ['P100000120422', 'E100001010324', 20.0], ['P100000120422', 'E100001010063', 10.0], ['P100000120422', 'E100001010315', 25.0], ['P100000120429', 'E100001016239', 100.0], ['P100000120437', 'E100001016216', 92.6], ['P100000120437', 'E100000132388', 50.0], ['P100000120430', 'E100000132388', 6.0], ['P100000120430', 'E100000131000', 50.0], ['P100000120431', 'E100000132388', 6.0], ['P100000120431', 'E100000131000', 50.0], ['P100000120432', 'E100001016169', 74.9], ['P100000120432', 'E100000132388', 26.1], ['P100000120424', 'E100001010315', 100.0], ['P100000120433', 'E100001010315', 100.0], ['P100000120421', 'E100000004212', 80.0], ['P100000120421', 'E100001010063', 20.0], ['P100000120489', 'E100001012490', 74.0], ['P100000120489', 'E100001012491', 26.0], ['P100000120491', 'E100000130787', 100.0], ['P100000121196', 'E100001012056', 100.0], ['P100000120493', 'E100000131005', 100.0], ['P100000120492', 'E100000131005', 28.6], ['P100000120494', 'E100002016465', 50.0], ['P100000120494', 'E100002016466', 50.0], ['P100000121046', 'E100000130804', 100.0], ['P100000120496', 'E100001000556', 100.0], ['P100001045296', 'E100002007999', 100.0], ['P100001025815', 'E100000123261', 36.1], ['P100001025815', 'E100001015587', 28.8], ['P100001025815', 'E100001016502', 22.6], ['P100001025815', 'E100001016503', 12.5], ['P100000120532', 'E100000000687', 100.0], ['P100001025669', 'E100000000687', 60.0], ['P100001025669', 'E100000000652', 40.0], ['P100000120513', 'E100000000687', 60.0], ['P100000120513', 'E100000000652', 40.0], ['P100000120568', 'E100001016284', 100.0], ['P100000120564', 'E100001016293', 100.0], ['P100000120512', 'E100001011472', 58.5], ['P100000120512', 'E100000123261', 41.5], ['P100001045282', 'E100000134289', 47.5], ['P100001045282', 'E100002000372', 47.5], ['P100000120534', 'E100001000479', 95.5], ['P100000120534', 'E100001015587', 4.5], ['P100000121207', 'E100001012391', 100.0], ['P100000121195', 'E100001016196', 55.7], ['P100000121195', 'E100001016198', 44.3], ['P100000121236', 'E100001016196', 55.7], ['P100000121236', 'E100001016198', 44.3], ['P100001045317', 'E100002008017', 100.0], ['P100000120557', 'E100001000665', 100.0], ['P100000120552', 'E100000130701', 61.0], ['P100000120552', 'E100002007557', 39.0], ['P100000120560', 'E100000130703', 100.0], ['P100000120562', 'E100000130703', 100.0], ['P100001025922', 'E100000130703', 100.0], ['P100000120547', 'E100000120672', 100.0], ['P100000120544', 'E100000120686', 100.0], ['P100000120543', 'E100000120686', 100.0], ['P100001044907', 'E100001000439', 100.0], ['P100000120515', 'E100001000439', 100.0], ['P100000121173', 'E100001000439', 100.0], ['P100000121034', 'E100001000439', 100.0], ['P100000120542', 'E100001000439', 100.0], ['P100000120516', 'E100001000439', 100.0], ['P100000120510', 'E100001000516', 100.0], ['P100000120570', 'E100002016710', 100.0], ['P100000120517', 'E100001000516', 100.0], ['P100000120536', 'E100000120868', 100.0], ['P100000120518', 'E100001000516', 100.0], ['P100000120519', 'E100001000516', 100.0], ['P100000120538', 'E100001000516', 100.0], ['P100001045284', 'E100002007981', 100.0], ['P100000120522', 'E100001012204', 100.0], ['P100000121179', 'E100001012204', 100.0], ['P100000120559', 'E100000130811', 100.0], ['P100000121239', 'E100001012890', 100.0], ['P100000120567', 'E100000130702', 100.0], ['P100001025672', 'E100002004792', 100.0], ['P100000120540', 'E100000121408', 92.7], ['P100000120540', 'E100001010018', 5.2], ['P100000120540', 'E100001015587', 2.1], ['P100000121165', 'E100001012115', 100.0], ['P100000120523', 'E100002004554', 100.0], ['P100000121203', 'E100001015587', 28.7], ['P100000121203', 'E100001012163', 16.6], ['P100000121203', 'E100001012171', 9.1], ['P100000121203', 'E100001012169', 6.6], ['P100000121203', 'E100001012170', 6.0], ['P100000121203', 'E100001012164', 5.8], ['P100000121203', 'E100001012079', 5.7], ['P100000121203', 'E100001012165', 5.7], ['P100000121203', 'E100001012168', 5.5], ['P100000121203', 'E100001012166', 5.2], ['P100000121203', 'E100000130890', 5.0], ['P100000121203', 'E100001012161', 0.1], ['P100000121188', 'E100001015587', 28.7], ['P100000121188', 'E100001012163', 16.6], ['P100000121188', 'E100001012171', 9.1], ['P100000121188', 'E100001012169', 6.6], ['P100000121188', 'E100001012170', 6.0], ['P100000121188', 'E100001012164', 5.8], ['P100000121188', 'E100001012079', 5.7], ['P100000121188', 'E100001012165', 5.7], ['P100000121188', 'E100001012168', 5.5], ['P100000121188', 'E100001012166', 5.2], ['P100000121188', 'E100000130890', 5.0], ['P100000121188', 'E100000123261', 0.1], ['P100000121187', 'E100001015587', 28.7], ['P100000121187', 'E100001012163', 16.6], ['P100000121187', 'E100001012171', 9.1], ['P100000121187', 'E100001012169', 6.6], ['P100000121187', 'E100001012170', 6.0], ['P100000121187', 'E100001012164', 5.8], ['P100000121187', 'E100001012079', 5.7], ['P100000121187', 'E100001012165', 5.7], ['P100000121187', 'E100001012168', 5.5], ['P100000121187', 'E100001012166', 5.2], ['P100000121187', 'E100000130890', 5.0], ['P100000121187', 'E100000123261', 0.1], ['P100000120566', 'E100001015587', 28.7], ['P100000120566', 'E100001012163', 16.6], ['P100000120566', 'E100001012171', 9.1], ['P100000120566', 'E100001012169', 6.6], ['P100000120566', 'E100001012170', 6.0], ['P100000120566', 'E100001012164', 5.8], ['P100000120566', 'E100001012079', 5.7], ['P100000120566', 'E100001012165', 5.7], ['P100000120566', 'E100001012168', 5.5], ['P100000120566', 'E100001012166', 5.2], ['P100000120566', 'E100000130890', 5.0], ['P100000120566', 'E100000123261', 0.1], ['P100000120563', 'E100001016322', 18.5], ['P100000120563', 'E100001016325', 12.8], ['P100000120563', 'E100001016323', 12.4], ['P100000120563', 'E100001016324', 9.4], ['P100000120563', 'E100000131685', 6.7], ['P100000120563', 'E100001016321', 4.9], ['P100000121189', 'E100001012079', 100.0], ['P100000120558', 'E100000121137', 100.0], ['P100000121190', 'E100001012047', 100.0], ['P100000120553', 'E100001012152', 100.0], ['P100001025938', 'E100002005355', 100.0], ['P100000120556', 'E100000130890', 100.0], ['P100000120555', 'E100000130890', 100.0], ['P100000120531', 'E100000001935', 100.0], ['P100001025819', 'E100000130898', 100.0], ['P100000120569', 'E100000130898', 100.0], ['P100000121186', 'E100000130898', 100.0], ['P100000121185', 'E100000130898', 100.0], ['P100001025818', 'E100000130898', 100.0], ['P100000120549', 'E100001000703', 100.0], ['P100000120525', 'E100001000703', 100.0], ['P100000120526', 'E100001000703', 100.0], ['P100000120527', 'E100001000703', 100.0], ['P100000120524', 'E100001000703', 100.0], ['P100000120550', 'E100001000703', 100.0], ['P100000120528', 'E100001000703', 100.0], ['P100000121191', 'E100001012203', 100.0], ['P100000121192', 'E100001012215', 15.9], ['P100000121192', 'E100001012216', 15.6], ['P100000121192', 'E100000123261', 6.3], ['P100000121192', 'E100001012218', 5.5], ['P100000121192', 'E100001012219', 5.5], ['P100000121183', 'E100001012152', 100.0], ['P100000121184', 'E100001012152', 100.0], ['P100000121182', 'E100000130859', 100.0], ['P100000121181', 'E100000130859', 100.0], ['P100000120575', 'E100001000589', 100.0], ['P100000121193', 'E100001012071', 100.0], ['P100000120546', 'E100000130700', 100.0], ['P100000120511', 'E100001000862', 100.0], ['P100000120529', 'E100001010018', 100.0], ['P100000120530', 'E100001010018', 100.0], ['P100000120535', 'E100000121408', 100.0], ['P100000121205', 'E100001000479', 100.0], ['P100000120541', 'E100002007597', 100.0], ['P100000121032', 'E100001016270', 100.0], ['P100000120509', 'E100000124667', 100.0], ['P100000120503', 'E100002017715', 99.9], ['P100000120503', 'E100001015587', 0.1], ['P100000120504', 'E100001016334', 100.0], ['P100000121202', 'E100000127409', 100.0], ['P100000120507', 'E100000130792', 100.0], ['P100000120506', 'E100000130792', 100.0], ['P100000120499', 'E100000130792', 100.0], ['P100000120508', 'E100000130944', 100.0], ['P100000120500', 'E100000131133', 100.0], ['P100000120501', 'E100001010136', 100.0], ['P100000120502', 'E100000000953', 50.0], ['P100000120502', 'E100001010136', 50.0], ['P100000121169', 'E100001012183', 100.0], ['P100001049317', 'E100002017129', 100.0], ['P100000120505', 'E100001000403', 95.9], ['P100000120505', 'E100000132388', 4.1], ['P100000121210', 'E100000122571', 100.0], ['P100000121224', 'E100001012523', 50.0], ['P100000121224', 'E100001016229', 50.0], ['P100000121247', 'E100001013043', 100.0], ['P100000120607', 'E100001016265', 100.0], ['P100000120597', 'E100001016281', 43.7], ['P100000120597', 'E100001016282', 20.5], ['P100000120597', 'E100001015587', 18.8], ['P100000120597', 'E100001016283', 17.0], ['P100000120590', 'E100000131102', 100.0], ['P100000120604', 'E100000131103', 100.0], ['P100000120605', 'E100000131105', 100.0], ['P100000120606', 'E100000131106', 100.0], ['P100000120617', 'E100001016229', 100.0], ['P100000120592', 'E100000000563', 50.0], ['P100000120592', 'E100001015587', 50.0], ['P100000121225', 'E100001012537', 100.0], ['P100000120580', 'E100000000547', 100.0], ['P100000120587', 'E100001012537', 25.0], ['P100000120587', 'E100000000543', 25.0], ['P100000120587', 'E100000131115', 25.0], ['P100000120587', 'E100001016092', 25.0], ['P100000120603', 'E100000000547', 100.0], ['P100000120613', 'E100000000561', 26.8], ['P100000120613', 'E100000000543', 50.0], ['P100000120599', 'E100000131115', 100.0], ['P100000120608', 'E100000131108', 100.0], ['P100000120618', 'E100000131183', 100.0], ['P100000120589', 'E100000000544', 51.0], ['P100000120589', 'E100001010256', 49.0], ['P100000120600', 'E100000130952', 100.0], ['P100000120582', 'E100001010258', 100.0], ['P100000120614', 'E100000131022', 100.0], ['P100000120583', 'E100001010257', 100.0], ['P100000120596', 'E100001016248', 100.0], ['P100000120595', 'E100000000547', 44.0], ['P100000120595', 'E100001016087', 20.0], ['P100000120595', 'E100001016086', 20.0], ['P100000120595', 'E100001016089', 16.0], ['P100000120601', 'E100000000547', 100.0], ['P100000121197', 'E100000000547', 100.0], ['P100000120584', 'E100000000547', 100.0], ['P100000120581', 'E100000000547', 100.0], ['P100000120612', 'E100000000547', 100.0], ['P100000120585', 'E100000131127', 100.0], ['P100000120611', 'E100000000543', 65.0], ['P100000120611', 'E100000000547', 35.0], ['P100000120586', 'E100000131131', 100.0], ['P100000120610', 'E100001016147', 100.0], ['P100000120594', 'E100000131134', 100.0], ['P100000121245', 'E100001013041', 100.0], ['P100000120602', 'E100000131093', 100.0], ['P100000121243', 'E100001013041', 100.0], ['P100000120615', 'E100001016286', 52.0], ['P100000120615', 'E100001016285', 48.0], ['P100000121164', 'E100001010257', 100.0], ['P100000121244', 'E100001013041', 100.0], ['P100000120598', 'E100000000563', 50.0], ['P100000120598', 'E100001015587', 50.0], ['P100000120616', 'E100000131181', 100.0], ['P100000120591', 'E100000131141', 100.0], ['P100000120588', 'E100000000563', 50.0], ['P100000120588', 'E100001015587', 50.0], ['P100000121246', 'E100001013041', 100.0], ['P100001045293', 'E100002008132', 33.333333333333336], ['P100001045293', 'E100002008135', 33.333333333333336], ['P100001045293', 'E100002008133', 33.333333333333336], ['P100000121226', 'E100001013035', 50.0], ['P100000121226', 'E100001013034', 50.0], ['P100000120577', 'E100000000666', 100.0], ['P100000120578', 'E100000001965', 100.0], ['P100000120579', 'E100000131178', 100.0], ['P100000120620', 'E100000000687', 62.0], ['P100000120620', 'E100001010117', 38.0], ['P100000120634', 'E100000130761', 100.0], ['P100000120636', 'E100000130761', 100.0], ['P100000120635', 'E100000130761', 100.0], ['P100000120624', 'E100001016199', 91.9], ['P100000120624', 'E100000132388', 8.1], ['P100000120623', 'E100001016253', 100.0], ['P100000120637', 'E100001016253', 100.0], ['P100000120621', 'E100000130706', 99.9], ['P100000120621', 'E100001015587', 0.1], ['P100000120640', 'E100001016280', 100.0], ['P100000120632', 'E100000130894', 100.0], ['P100000120626', 'E100000130894', 100.0], ['P100000120638', 'E100001016291', 100.0], ['P100000120630', 'E100000004212', 15.0], ['P100000120630', 'E100000000614', 50.0], ['P100000120619', 'E100000000614', 100.0], ['P100000120639', 'E100001016290', 100.0], ['P100000120622', 'E100001000516', 100.0], ['P100000120631', 'E100001016336', 100.0], ['P100000120627', 'E100000130840', 100.0], ['P100000120628', 'E100001016757', 100.0], ['P100000120629', 'E100001016757', 100.0], ['P100000120641', 'E100000131000', 100.0], ['P100000120642', 'E100000131000', 100.0], ['P100000120625', 'E100000000692', 100.0], ['P100000120644', 'E100000130710', 100.0], ['P100000120683', 'E100000130711', 100.0], ['P100000120645', 'E100001000597', 100.0], ['P100000120676', 'E100000130709', 100.0], ['P100000120675', 'E100000130709', 100.0], ['P100000120674', 'E100000130709', 100.0], ['P100000120652', 'E100000000643', 100.0], ['P100000120653', 'E100000000643', 100.0], ['P100000120646', 'E100000000643', 100.0], ['P100000120647', 'E100000000643', 100.0], ['P100000120650', 'E100000000643', 100.0], ['P100000120651', 'E100000000643', 100.0], ['P100000120649', 'E100000000643', 100.0], ['P100000120648', 'E100000000643', 100.0], ['P100000121199', 'E100001012303', 100.0], ['P100000120655', 'E100000000647', 100.0], ['P100000120656', 'E100000000647', 100.0], ['P100000120680', 'E100000130707', 100.0], ['P100000120682', 'E100000130707', 100.0], ['P100000120681', 'E100000130707', 100.0], ['P100000120678', 'E100000130709', 33.333333333333336], ['P100000120678', 'E100000130707', 33.333333333333336], ['P100000120678', 'E100001016300', 33.333333333333336], ['P100000120679', 'E100001000919', 100.0], ['P100000120664', 'E100000000652', 100.0], ['P100000120659', 'E100000000652', 100.0], ['P100000120666', 'E100000000652', 100.0], ['P100000120662', 'E100000000652', 100.0], ['P100000120665', 'E100000000652', 100.0], ['P100000120663', 'E100000000652', 100.0], ['P100000120661', 'E100000000652', 100.0], ['P100000120667', 'E100000130712', 100.0], ['P100000120658', 'E100000000652', 100.0], ['P100000120657', 'E100000000652', 100.0], ['P100001041253', 'E100000000652', 100.0], ['P100001041252', 'E100000000652', 100.0], ['P100000120660', 'E100000000652', 100.0], ['P100000120677', 'E100000130708', 100.0], ['P100000120668', 'E100000130713', 100.0], ['P100000120669', 'E100000130713', 100.0], ['P100000120670', 'E100000130713', 100.0], ['P100000120671', 'E100000130713', 100.0], ['P100000120672', 'E100001000737', 100.0], ['P100000120673', 'E100001010196', 100.0], ['P100001025567', 'E100002004637', 100.0], ['P100001025573', 'E100002007593', 50.0], ['P100001025573', 'E100000123261', 50.0], ['P100000121054', 'E100001016310', 50.0], ['P100000121054', 'E100000123261', 50.0], ['P100000120710', 'E100002003233', 100.0], ['P100000120712', 'E100001012174', 100.0], ['P100000120711', 'E100000132388', 100.0], ['P100000120711', 'E100000123261', 87.0], ['P100000120685', 'E100000130771', 100.0], ['P100000120684', 'E100000001677', 100.0], ['P100000120709', 'E100001016268', 50.0], ['P100000120709', 'E100000000547', 50.0], ['P100000120716', 'E100001010321', 100.0], ['P100000120717', 'E100000002006', 100.0], ['P100001023430', 'E100002004577', 50.0], ['P100001023430', 'E100001000709', 50.0], ['P100000120714', 'E100000000687', 100.0], ['P100000120715', 'E100000000687', 100.0], ['P100000120750', 'E100000127970', 50.0], ['P100000120750', 'E100000123226', 50.0], ['P100000120748', 'E100000130723', 100.0], ['P100000120749', 'E100000130723', 100.0], ['P100000120747', 'E100000000155', 33.333333333333336], ['P100000120747', 'E100000130720', 33.333333333333336], ['P100000120747', 'E100000132388', 33.333333333333336], ['P100000120743', 'E100000131050', 100.0], ['P100000120744', 'E100000131050', 100.0], ['P100000120742', 'E100000131112', 100.0], ['P100000120738', 'E100000130722', 100.0], ['P100000120739', 'E100000130722', 100.0], ['P100000120740', 'E100000130722', 100.0], ['P100000120741', 'E100002007595', 100.0], ['P100000120746', 'E100000130724', 100.0], ['P100000120745', 'E100002004711', 99.9], ['P100000121055', 'E100000130721', 100.0], ['P100000120724', 'E100000131250', 64.0], ['P100000120724', 'E100001015587', 36.0], ['P100000120725', 'E100000000687', 100.0], ['P100000120726', 'E100000000715', 100.0], ['P100000120730', 'E100000000715', 100.0], ['P100000120727', 'E100001010270', 73.6], ['P100000120727', 'E100001010301', 25.0], ['P100000120735', 'E100001010270', 73.6], ['P100000120735', 'E100001010301', 25.0], ['P100000120736', 'E100002000035', 100.0], ['P100000120733', 'E100000130728', 100.0], ['P100000120737', 'E100000130728', 100.0], ['P100000120731', 'E100000000692', 100.0], ['P100000120734', 'E100000132388', 10.8], ['P100000120734', 'E100000130688', 33.333333333333336], ['P100000120734', 'E100001000384', 33.333333333333336], ['P100000120729', 'E100000132388', 10.8], ['P100000120729', 'E100000130688', 33.333333333333336], ['P100000120729', 'E100001000384', 33.333333333333336], ['P100000120728', 'E100000132388', 10.8], ['P100000120728', 'E100000130688', 33.333333333333336], ['P100000120728', 'E100001000384', 33.333333333333336], ['P100000120732', 'E100000130822', 100.0], ['P100000120721', 'E100000130762', 100.0], ['P100000120719', 'E100000000687', 100.0], ['P100000120718', 'E100000130825', 100.0], ['P100000120720', 'E100001016311', 100.0], ['P100000121230', 'E100001013038', 50.0], ['P100000121230', 'E100001013037', 50.0], ['P100000120752', 'E100000130753', 100.0], ['P100000120723', 'E100000130595', 76.5], ['P100000120723', 'E100000125648', 8.5], ['P100000120723', 'E100000132388', 0.0], ['P100001023431', 'E100000131956', 100.0], ['P100000121156', 'E100000131956', 100.0], ['P100000120753', 'E100001012072', 100.0], ['P100000120754', 'E100001016207', 100.0], ['P100000120758', 'E100001010018', 100.0], ['P100000120759', 'E100000131042', 100.0], ['P100000120761', 'E100000130689', 100.0], ['P100000120757', 'E100000131145', 100.0], ['P100000120756', 'E100000002408', 100.0], ['P100001045326', 'E100002008145', 100.0], ['P100001044951', 'E100002007317', 100.0], ['P100000120755', 'E100000131157', 100.0], ['P100000121200', 'E100000120682', 100.0], ['P100000120690', 'E100001000599', 100.0], ['P100000120687', 'E100001000599', 100.0], ['P100000120688', 'E100001000599', 100.0], ['P100000120691', 'E100001000599', 100.0], ['P100000121159', 'E100001012073', 100.0], ['P100000120722', 'E100001016332', 100.0], ['P100000120760', 'E100001016427', 100.0], ['P100000120762', 'E100001010331', 100.0], ['P100000120763', 'E100000000675', 33.333333333333336], ['P100000120763', 'E100001012487', 33.333333333333336], ['P100000120763', 'E100001012488', 33.333333333333336], ['P100000120765', 'E100001010331', 100.0], ['P100000120764', 'E100000131007', 100.0], ['P100000120782', 'E100000131045', 100.0], ['P100000121232', 'E100001012762', 100.0], ['P100000120784', 'E100000131200', 100.0], ['P100001043026', 'E100002006602', 100.0], ['P100000120783', 'E100000130788', 100.0], ['P100000121231', 'E100001011285', 100.0], ['P100000120780', 'E100000130931', 100.0], ['P100000120781', 'E100000130942', 100.0], ['P100000120768', 'E100000130730', 100.0], ['P100000120769', 'E100000130731', 100.0], ['P100000120779', 'E100000131011', 100.0], ['P100000120776', 'E100000131011', 100.0], ['P100000120772', 'E100000131011', 100.0], ['P100000120773', 'E100000131011', 100.0], ['P100000120785', 'E100000000687', 100.0], ['P100000120786', 'E100000000687', 100.0], ['P100000120790', 'E100000000687', 100.0], ['P100000120788', 'E100002003621', 16.666666666666668], ['P100000120788', 'E100002003627', 16.666666666666668], ['P100000120788', 'E100002003626', 16.666666666666668], ['P100000120788', 'E100000136992', 16.666666666666668], ['P100000120788', 'E100002003622', 16.666666666666668], ['P100000120788', 'E100002003624', 16.666666666666668], ['P100000120787', 'E100000130754', 100.0], ['P100000120792', 'E100000130875', 100.0], ['P100000120789', 'E100001000556', 100.0], ['P100000120794', 'E100001016222', 100.0], ['P100000120793', 'E100001016222', 100.0], ['P100000120795', 'E100000000840', 100.0], ['P100000120797', 'E100001000499', 100.0], ['P100000121240', 'E100001016199', 86.1], ['P100000121240', 'E100000132388', 7.6], ['P100000120796', 'E100001000556', 100.0], ['P100000120798', 'E100002016547', 100.0], ['P100000120799', 'E100000131078', 100.0], ['P100000121242', 'E100000000692', 100.0], ['P100000120802', 'E100000131027', 100.0], ['P100000120803', 'E100000131146', 100.0], ['P100000120825', 'E100002016553', 100.0], ['P100000120817', 'E100000131027', 100.0], ['P100000120832', 'E100001012123', 100.0], ['P100000120826', 'E100002003654', 45.6], ['P100000120826', 'E100002003655', 45.6], ['P100000120826', 'E100002003653', 8.8], ['P100000120811', 'E100001000663', 100.0], ['P100000120822', 'E100001000663', 100.0], ['P100000120806', 'E100000123261', 50.0], ['P100000120806', 'E100001016121', 49.0], ['P100000120806', 'E100001015587', 1.0], ['P100000120830', 'E100000131099', 100.0], ['P100000120823', 'E100000131085', 100.0], ['P100000120807', 'E100000002080', 100.0], ['P100000120805', 'E100000130740', 100.0], ['P100000120828', 'E100000131085', 100.0], ['P100000120812', 'E100000131085', 100.0], ['P100000120813', 'E100000131143', 33.0], ['P100000120813', 'E100000131029', 32.8], ['P100000120813', 'E100002016171', 17.7], ['P100000120813', 'E100002016172', 17.0], ['P100000120808', 'E100000003676', 100.0], ['P100000121158', 'E100001016305', 98.9], ['P100000120831', 'E100001016220', 100.0], ['P100000120804', 'E100000130737', 100.0], ['P100000120809', 'E100000123261', 50.0], ['P100000120809', 'E100001016121', 49.0], ['P100000120809', 'E100001015587', 1.0], ['P100000120810', 'E100000123261', 50.0], ['P100000120810', 'E100001016121', 49.0], ['P100000120810', 'E100001015587', 1.0], ['P100000120818', 'E100000002088', 100.0], ['P100000120829', 'E100000131026', 100.0], ['P100000120815', 'E100000130737', 98.2], ['P100000120815', 'E100001015587', 1.8], ['P100000120816', 'E100000130737', 96.0], ['P100000120816', 'E100001015587', 4.0], ['P100000120814', 'E100000131143', 33.0], ['P100000120814', 'E100000131029', 32.8], ['P100000120814', 'E100002016171', 17.7], ['P100000120814', 'E100002016172', 17.0], ['P100000120819', 'E100001000444', 100.0], ['P100000120820', 'E100000131158', 100.0], ['P100000120824', 'E100000130737', 100.0], ['P100000120840', 'E100000130971', 100.0], ['P100000120835', 'E100001016122', 60.0], ['P100000120835', 'E100000132388', 40.0], ['P100000120836', 'E100001016122', 50.0], ['P100000120836', 'E100000132388', 50.0], ['P100000121248', 'E100001013045', 75.0], ['P100000121248', 'E100001016338', 25.0], ['P100000120841', 'E100000130741', 100.0], ['P100000120839', 'E100000130972', 50.0], ['P100000120839', 'E100000130837', 50.0], ['P100000120837', 'E100000130924', 100.0], ['P100000120833', 'E100000130924', 100.0], ['P100000120834', 'E100000000840', 40.4], ['P100000120834', 'E100000130941', 50.0], ['P100000121212', 'E100001000709', 100.0], ['P100000120800', 'E100000124529', 100.0], ['P100000120801', 'E100002007548', 100.0], ['P100000120852', 'E100001010018', 100.0], ['P100000120855', 'E100000130784', 100.0], ['P100000120854', 'E100000000652', 100.0], ['P100000120853', 'E100001010754', 25.0], ['P100000120853', 'E100001016317', 50.0], ['P100000121029', 'E100000130743', 76.0], ['P100000121029', 'E100001000576', 24.0], ['P100000121027', 'E100001000504', 100.0], ['P100000121030', 'E100001000504', 100.0], ['P100000121028', 'E100001000504', 100.0], ['P100000121237', 'E100001000576', 74.0], ['P100000121237', 'E100001012803', 21.0], ['P100000121170', 'E100001010335', 100.0], ['P100000120693', 'E100000130714', 100.0], ['P100000120694', 'E100000130714', 100.0], ['P100000120705', 'E100000130851', 100.0], ['P100000120695', 'E100001010262', 100.0], ['P100000120696', 'E100001010262', 100.0], ['P100000120697', 'E100001010262', 100.0], ['P100000120692', 'E100002007588', 100.0], ['P100000120704', 'E100002007588', 100.0], ['P100000120698', 'E100000130851', 100.0], ['P100000120699', 'E100000000953', 100.0], ['P100000120700', 'E100000000953', 100.0], ['P100000120701', 'E100000130717', 100.0], ['P100000120702', 'E100000130717', 100.0], ['P100000120706', 'E100001010280', 100.0], ['P100000120703', 'E100001010335', 70.0], ['P100000120703', 'E100001010196', 30.0], ['P100000121033', 'E100001010335', 70.0], ['P100000121033', 'E100001010196', 30.0], ['P100000120454', 'E100000130743', 100.0], ['P100000120459', 'E100000000687', 99.8], ['P100000120459', 'E100001015587', 0.2], ['P100000120452', 'E100000000687', 99.8], ['P100000120452', 'E100001015587', 0.2], ['P100000120458', 'E100000000687', 50.0], ['P100000120458', 'E100001015587', 50.0], ['P100000120453', 'E100000000687', 50.0], ['P100000120453', 'E100001015587', 50.0], ['P100000120456', 'E100002003621', 16.666666666666668], ['P100000120456', 'E100002003627', 16.666666666666668], ['P100000120456', 'E100002003626', 16.666666666666668], ['P100000120456', 'E100000136992', 16.666666666666668], ['P100000120456', 'E100002003622', 16.666666666666668], ['P100000120456', 'E100002003624', 16.666666666666668], ['P100000120462', 'E100002003621', 16.666666666666668], ['P100000120462', 'E100002003627', 16.666666666666668], ['P100000120462', 'E100002003626', 16.666666666666668], ['P100000120462', 'E100000136992', 16.666666666666668], ['P100000120462', 'E100002003622', 16.666666666666668], ['P100000120462', 'E100002003624', 16.666666666666668], ['P100000120467', 'E100002003621', 16.666666666666668], ['P100000120467', 'E100002003627', 16.666666666666668], ['P100000120467', 'E100002003626', 16.666666666666668], ['P100000120467', 'E100000136992', 16.666666666666668], ['P100000120467', 'E100002003622', 16.666666666666668], ['P100000120467', 'E100002003624', 16.666666666666668], ['P100000120460', 'E100001012221', 100.0], ['P100000120461', 'E100000136946', 100.0], ['P100000120455', 'E100000136946', 100.0], ['P100000120463', 'E100001016222', 100.0], ['P100000120464', 'E100001016222', 100.0], ['P100000120457', 'E100000131000', 100.0], ['P100000120465', 'E100002003637', 100.0], ['P100000120713', 'E100000131034', 100.0], ['P100000120849', 'E100001016231', 15.5], ['P100000120849', 'E100001015587', 50.0], ['P100000120848', 'E100000130712', 100.0], ['P100000120845', 'E100000001651', 100.0], ['P100000120844', 'E100000001651', 100.0], ['P100000120850', 'E100002005443', 16.666666666666668], ['P100000120850', 'E100000136869', 16.666666666666668], ['P100000120850', 'E100002007552', 16.666666666666668], ['P100000120850', 'E100000000421', 16.666666666666668], ['P100000120850', 'E100001015587', 16.666666666666668], ['P100000120850', 'E100002007551', 16.666666666666668], ['P100000120065', 'E100001016199', 79.4], ['P100000120065', 'E100000132388', 21.6], ['P100000121227', 'E100000130745', 100.0], ['P100000120856', 'E100000131111', 100.0], ['P100000120857', 'E100002003618', 100.0], ['P100000120897', 'E100001010146', 100.0], ['P100000120898', 'E100001010146', 100.0], ['P100000120901', 'E100001016302', 100.0], ['P100000120899', 'E100000131173', 100.0], ['P100000121174', 'E100001012160', 100.0], ['P100000121229', 'E100001012702', 100.0], ['P100000120904', 'E100000130746', 100.0], ['P100000120903', 'E100000130746', 100.0], ['P100000120902', 'E100000130746', 100.0], ['P100000120900', 'E100000131174', 100.0], ['P100000120864', 'E100000130747', 100.0], ['P100000121168', 'E100000134363', 100.0], ['P100000120865', 'E100000130748', 100.0], ['P100000120858', 'E100000000652', 60.2], ['P100000120858', 'E100001015587', 12.8], ['P100000120858', 'E100000123261', 12.4], ['P100000120858', 'E100001016129', 7.5], ['P100000120858', 'E100001016130', 7.0], ['P100000120859', 'E100001010124', 100.0], ['P100000120861', 'E100001010196', 64.2], ['P100000120861', 'E100000000651', 20.0], ['P100000120861', 'E100001000930', 10.0], ['P100000120861', 'E100000000657', 5.8], ['P100000120860', 'E100001010196', 64.2], ['P100000120860', 'E100000000651', 20.0], ['P100000120860', 'E100001000930', 10.0], ['P100000120860', 'E100000000657', 5.8], ['P100000120862', 'E100001010159', 100.0], ['P100000120863', 'E100001010159', 100.0], ['P100000121204', 'E100001012387', 38.8], ['P100000121204', 'E100001012384', 19.4], ['P100000121204', 'E100001012386', 5.9], ['P100000120866', 'E100001000453', 100.0], ['P100000120895', 'E100001010181', 100.0], ['P100000120896', 'E100000131191', 100.0], ['P100000120882', 'E100000131190', 100.0], ['P100000120891', 'E100001015587', 21.7], ['P100000120891', 'E100001016200', 20.1], ['P100000120891', 'E100000186116', 19.5], ['P100000120891', 'E100001016203', 5.5], ['P100000120891', 'E100000120333', 20.0], ['P100000120892', 'E100001010272', 100.0], ['P100000120867', 'E100000002151', 100.0], ['P100000120868', 'E100000120333', 100.0], ['P100000120869', 'E100000123261', 98.0], ['P100000120869', 'E100001015587', 2.0], ['P100000120870', 'E100000130896', 100.0], ['P100000120871', 'E100000130751', 100.0], ['P100000120872', 'E100001000568', 100.0], ['P100000120873', 'E100000130879', 100.0], ['P100000120874', 'E100000130752', 100.0], ['P100000120875', 'E100000130877', 100.0], ['P100000120876', 'E100000001058', 100.0], ['P100000120894', 'E100001000598', 100.0], ['P100000120877', 'E100001000598', 100.0], ['P100000120878', 'E100000131090', 100.0], ['P100000120879', 'E100000130883', 100.0], ['P100000120881', 'E100000131123', 100.0], ['P100000120880', 'E100000002080', 100.0], ['P100000120883', 'E100000130878', 100.0], ['P100000120884', 'E100000131138', 100.0], ['P100000120886', 'E100001000709', 100.0], ['P100000120885', 'E100001000709', 100.0], ['P100000120889', 'E100001000709', 100.0], ['P100000120887', 'E100000120333', 100.0], ['P100000120888', 'E100000130882', 100.0], ['P100000120918', 'E100000131193', 100.0], ['P100000120905', 'E100000130963', 100.0], ['P100000120906', 'E100000000687', 95.1], ['P100000120906', 'E100001015587', 4.9], ['P100000120907', 'E100001000605', 100.0], ['P100000120911', 'E100001015587', 2.3], ['P100000120911', 'E100001016128', 50.0], ['P100000120910', 'E100002004455', 100.0], ['P100000120915', 'E100001016232', 100.0], ['P100000120909', 'E100001000605', 100.0], ['P100000120917', 'E100001000605', 100.0], ['P100000120914', 'E100000132388', 5.0], ['P100000120914', 'E100001000695', 33.333333333333336], ['P100000120914', 'E100002003973', 33.333333333333336], ['P100000120916', 'E100001000605', 47.0], ['P100000120916', 'E100002017625', 36.8], ['P100000120916', 'E100002017627', 11.2], ['P100000120912', 'E100001012191', 100.0], ['P100000120908', 'E100001012093', 100.0], ['P100000121217', 'E100001012447', 100.0], ['P100000120002', 'E100000130760', 100.0], ['P100000120001', 'E100001016181', 100.0], ['P100000120483', 'E100002007775', 100.0], ['P100000121223', 'E100002007775', 100.0], ['P100000120486', 'E100001000556', 100.0], ['P100000120485', 'E100001000556', 100.0], ['P100000120487', 'E100002001198', 50.0], ['P100000120487', 'E100002001199', 50.0], ['P100000120484', 'E100001016427', 100.0], ['P100000120482', 'E100001010018', 100.0], ['P100000120998', 'E100000130968', 100.0], ['P100000120997', 'E100000000687', 100.0], ['P100000120970', 'E100000000687', 100.0], ['P100000120937', 'E100000130689', 100.0], ['P100000120995', 'E100000130689', 100.0], ['P100000120984', 'E100000130756', 100.0], ['P100000120986', 'E100000130780', 100.0], ['P100000120985', 'E100000130780', 100.0], ['P100000120923', 'E100001000649', 100.0], ['P100000120919', 'E100001000649', 100.0], ['P100000120927', 'E100001000649', 100.0], ['P100000120924', 'E100001000649', 100.0], ['P100000120920', 'E100001000649', 100.0], ['P100000120926', 'E100001000649', 100.0], ['P100000120971', 'E100001000649', 100.0], ['P100000120921', 'E100001000649', 100.0], ['P100000120922', 'E100001000649', 100.0], ['P100000120925', 'E100001000649', 100.0], ['P100000120969', 'E100001000649', 100.0], ['P100000120991', 'E100000130754', 100.0], ['P100000120994', 'E100000130754', 100.0], ['P100000120992', 'E100000130754', 100.0], ['P100000120989', 'E100000130754', 100.0], ['P100000120990', 'E100000130754', 100.0], ['P100000120929', 'E100000130754', 100.0], ['P100000120993', 'E100000130754', 100.0], ['P100000120930', 'E100001000663', 100.0], ['P100000120979', 'E100000130745', 100.0], ['P100000120980', 'E100001010270', 98.2], ['P100000120982', 'E100001010270', 98.2], ['P100001044952', 'E100001010270', 98.2], ['P100000120931', 'E100001010270', 98.2], ['P100000120983', 'E100001010270', 98.2], ['P100000120932', 'E100001010270', 98.2], ['P100000120981', 'E100001010270', 98.2], ['P100000121160', 'E100001012114', 100.0], ['P100000120935', 'E100001000516', 100.0], ['P100000120961', 'E100000130755', 100.0], ['P100000120977', 'E100001000556', 100.0], ['P100000120978', 'E100001000556', 100.0], ['P100000120962', 'E100000131012', 100.0], ['P100000120963', 'E100000131012', 100.0], ['P100000120976', 'E100000003676', 100.0], ['P100000120936', 'E100000130743', 100.0], ['P100000120938', 'E100001010181', 100.0], ['P100000121155', 'E100001010181', 100.0], ['P100000120953', 'E100001010181', 100.0], ['P100000120939', 'E100001010181', 100.0], ['P100000120940', 'E100001010181', 100.0], ['P100000120945', 'E100001010181', 100.0], ['P100000120946', 'E100001010181', 100.0], ['P100000120941', 'E100001010181', 100.0], ['P100000120942', 'E100001010181', 100.0], ['P100000120948', 'E100001010181', 100.0], ['P100000120947', 'E100001010181', 100.0], ['P100000121000', 'E100001010181', 100.0], ['P100000120987', 'E100001010181', 100.0], ['P100000120944', 'E100001010181', 100.0], ['P100000120943', 'E100001010181', 100.0], ['P100000121221', 'E100001010181', 100.0], ['P100000120951', 'E100001010181', 100.0], ['P100000120952', 'E100001010181', 100.0], ['P100000120950', 'E100001010181', 100.0], ['P100000120949', 'E100001010181', 51.0], ['P100000120949', 'E100001010196', 49.0], ['P100000120975', 'E100001016337', 100.0], ['P100000120954', 'E100001016231', 15.5], ['P100000120954', 'E100001015587', 50.0], ['P100000120955', 'E100000130728', 100.0], ['P100000120956', 'E100000130728', 100.0], ['P100000120933', 'E100000001651', 100.0], ['P100000120934', 'E100000001651', 100.0], ['P100000120957', 'E100001010336', 100.0], ['P100000120958', 'E100001010336', 100.0], ['P100000120959', 'E100001010336', 100.0], ['P100000120973', 'E100001010336', 100.0], ['P100000120972', 'E100001010336', 100.0], ['P100000120960', 'E100001010336', 100.0], ['P100000120928', 'E100000000652', 100.0], ['P100000120964', 'E100000000652', 100.0], ['P100000120965', 'E100000000652', 100.0], ['P100000120966', 'E100000000652', 100.0], ['P100000120968', 'E100000000652', 100.0], ['P100000120967', 'E100000000652', 100.0], ['P100000120974', 'E100001010324', 100.0], ['P100001023449', 'E100001012111', 100.0], ['P100000121002', 'E100001012111', 100.0], ['P100000121001', 'E100001010426', 80.0], ['P100000121001', 'E100000132388', 20.0], ['P100000121010', 'E100000130759', 100.0], ['P100000121008', 'E100000130955', 100.0], ['P100000121007', 'E100001010279', 100.0], ['P100000121005', 'E100000130906', 100.0], ['P100000121006', 'E100001000470', 100.0], ['P100000121004', 'E100000130923', 100.0], ['P100001045594', 'E100002008307', 100.0], ['P100000121209', 'E100001012401', 100.0], ['P100000121011', 'E100001010146', 33.333333333333336], ['P100000121011', 'E100000001015', 33.333333333333336], ['P100000121011', 'E100000000643', 33.333333333333336], ['P100000121015', 'E100000130846', 100.0], ['P100000121019', 'E100000130846', 100.0], ['P100000121022', 'E100000130853', 100.0], ['P100000121024', 'E100000128516', 25.0], ['P100000121024', 'E100000130973', 25.0], ['P100000121024', 'E100000132388', 25.0], ['P100000121024', 'E100000130925', 25.0], ['P100000121026', 'E100001000930', 100.0], ['P100000121012', 'E100000130937', 100.0], ['P100000121013', 'E100000130937', 100.0], ['P100000121020', 'E100000000953', 100.0], ['P100001045593', 'E100002008327', 50.0], ['P100001045593', 'E100002008326', 50.0], ['P100000121025', 'E100000130925', 65.0], ['P100000121025', 'E100001012496', 20.0], ['P100000121025', 'E100001015587', 15.0], ['P100000121014', 'E100000130746', 100.0], ['P100001045582', 'E100002008328', 100.0], ['P100000121017', 'E100000131144', 100.0], ['P100000121016', 'E100000131144', 100.0], ['P100000121018', 'E100000131144', 100.0], ['P100001045591', 'E100002008298', 100.0], ['P100001045592', 'E100000130707', 73.8], ['P100001045592', 'E100001012496', 20.0], ['P100001045592', 'E100000132388', 6.2], ['P100000121023', 'E100000130707', 45.0], ['P100000121023', 'E100000130925', 40.0], ['P100000121023', 'E100000000651', 9.0], ['P100000121023', 'E100000130791', 6.0], ['P100001045578', 'E100002008272', 100.0], ['P100000121021', 'E100000130925', 100.0], ['P100000121253', 'E100002003150', 100.0], ['P100000121031', 'E100000128088', 40.3], ['P100000121031', 'E100000132388', 24.5], ['P100000121031', 'E100000128090', 23.7], ['P100000121031', 'E100000128539', 11.5]]\n"
          ]
        },
        {
          "data": {
            "text/html": [
              "<div>\n",
              "<style scoped>\n",
              "    .dataframe tbody tr th:only-of-type {\n",
              "        vertical-align: middle;\n",
              "    }\n",
              "\n",
              "    .dataframe tbody tr th {\n",
              "        vertical-align: top;\n",
              "    }\n",
              "\n",
              "    .dataframe thead th {\n",
              "        text-align: right;\n",
              "    }\n",
              "</style>\n",
              "<table border=\"1\" class=\"dataframe\">\n",
              "  <thead>\n",
              "    <tr style=\"text-align: right;\">\n",
              "      <th></th>\n",
              "      <th>Parent GEM ID</th>\n",
              "      <th>plant owned</th>\n",
              "    </tr>\n",
              "  </thead>\n",
              "  <tbody>\n",
              "    <tr>\n",
              "      <th>0</th>\n",
              "      <td>E100000130992</td>\n",
              "      <td>1.000000</td>\n",
              "    </tr>\n",
              "    <tr>\n",
              "      <th>1</th>\n",
              "      <td>E100000000840</td>\n",
              "      <td>2.022000</td>\n",
              "    </tr>\n",
              "    <tr>\n",
              "      <th>2</th>\n",
              "      <td>E100000132388</td>\n",
              "      <td>19.098333</td>\n",
              "    </tr>\n",
              "    <tr>\n",
              "      <th>3</th>\n",
              "      <td>E100001000960</td>\n",
              "      <td>1.333333</td>\n",
              "    </tr>\n",
              "    <tr>\n",
              "      <th>4</th>\n",
              "      <td>E100001010275</td>\n",
              "      <td>1.000000</td>\n",
              "    </tr>\n",
              "    <tr>\n",
              "      <th>...</th>\n",
              "      <td>...</td>\n",
              "      <td>...</td>\n",
              "    </tr>\n",
              "    <tr>\n",
              "      <th>987</th>\n",
              "      <td>E100000131144</td>\n",
              "      <td>3.000000</td>\n",
              "    </tr>\n",
              "    <tr>\n",
              "      <th>988</th>\n",
              "      <td>E100002008298</td>\n",
              "      <td>1.000000</td>\n",
              "    </tr>\n",
              "    <tr>\n",
              "      <th>989</th>\n",
              "      <td>E100000130791</td>\n",
              "      <td>0.060000</td>\n",
              "    </tr>\n",
              "    <tr>\n",
              "      <th>990</th>\n",
              "      <td>E100002008272</td>\n",
              "      <td>1.000000</td>\n",
              "    </tr>\n",
              "    <tr>\n",
              "      <th>991</th>\n",
              "      <td>E100002003150</td>\n",
              "      <td>1.000000</td>\n",
              "    </tr>\n",
              "  </tbody>\n",
              "</table>\n",
              "<p>992 rows × 2 columns</p>\n",
              "</div>"
            ],
            "text/plain": [
              "     Parent GEM ID  plant owned\n",
              "0    E100000130992     1.000000\n",
              "1    E100000000840     2.022000\n",
              "2    E100000132388    19.098333\n",
              "3    E100001000960     1.333333\n",
              "4    E100001010275     1.000000\n",
              "..             ...          ...\n",
              "987  E100000131144     3.000000\n",
              "988  E100002008298     1.000000\n",
              "989  E100000130791     0.060000\n",
              "990  E100002008272     1.000000\n",
              "991  E100002003150     1.000000\n",
              "\n",
              "[992 rows x 2 columns]"
            ]
          },
          "execution_count": 175,
          "metadata": {},
          "output_type": "execute_result"
        }
      ],
      "source": [
        "# Count plants by company\n",
        "## make a list of the owner of a plant and the share it has in the plant.\n",
        "liste = a['Parent GEM ID']\n",
        "deuxieme_liste = a['Plant ID']\n",
        "liste_clean = liste.dropna().reset_index(drop=True)\n",
        "deuxieme_clean = deuxieme_liste.dropna().reset_index(drop=True)\n",
        "rez = []\n",
        "\n",
        "\n",
        "i = 0\n",
        "while i < len(liste_clean):\n",
        "    el = liste_clean.iloc[i]\n",
        "    petite_liste = [x.strip() for x in el.split(';')]\n",
        "    units = len(petite_liste)\n",
        "\n",
        "    j = 0\n",
        "    while j < len(petite_liste):\n",
        "        sub = petite_liste[j]\n",
        "        if '[' in sub and ']' in sub:\n",
        "            try:\n",
        "                id_part = sub.split('[')[0].strip()\n",
        "                perc_part = sub.split('[')[1].replace(']', '').replace('%', '').strip()\n",
        "                rez.append([deuxieme_clean.iloc[i], id_part, float(perc_part)])\n",
        "            except Exception as e:\n",
        "                print(f\"Error parsing {sub}: {e}\")\n",
        "        else:\n",
        "            if units == 1:\n",
        "                rez.append([deuxieme_clean.iloc[i], sub, 100.0])\n",
        "            else:\n",
        "                rez.append([deuxieme_clean.iloc[i], sub, 100.0 / units])\n",
        "        j += 1\n",
        "\n",
        "    i += 1\n",
        "print(rez) \n",
        "\n",
        "own_df= pd.DataFrame(rez,columns = ['Plant ID','Parent GEM ID','share'])\n",
        "own_df['share']=own_df['share']/100\n",
        "\n",
        "\n",
        "## Make a dictionnary that contains the different owners and the sum of all their shares in plants?\n",
        "keys = []\n",
        "for ell in rez:\n",
        "    keys.append(ell[1])\n",
        "\n",
        "dico = dict.fromkeys(keys, 0)\n",
        "\n",
        "for le in rez:\n",
        "    dico[le[1]] += le[2] / 100\n",
        "\n",
        "\n",
        "owner_df = pd.DataFrame(list(dico.items()), columns=['Parent GEM ID', 'plant owned'])\n",
        "\n",
        "owner_df"
      ]
    },
    {
      "cell_type": "code",
      "execution_count": 176,
      "metadata": {},
      "outputs": [
        {
          "data": {
            "image/png": "[encoded data removed]",
            "text/plain": [
              "<Figure size 640x480 with 1 Axes>"
            ]
          },
          "metadata": {},
          "output_type": "display_data"
        }
      ],
      "source": [
        "# Why are there more owners than plants, because a lot of company do not have a large amount of shares in a plant.\n",
        "\n",
        "owner_df['plant owned'].hist(bins=30)\n",
        "plt.xlabel('plant owned')\n",
        "plt.ylabel('Frequency')\n",
        "plt.title('Distribution of plant owned')\n",
        "plt.show()"
      ]
    },
    {
      "cell_type": "markdown",
      "metadata": {},
      "source": [
        "### Question 4: Capacity Analysis\n",
        "**Task:** Analyze the capacity distribution.\n",
        "- What is the total global steel production capacity?\n",
        "- Which companies have the highest total capacity?\n",
        "- How does capacity vary by region?\n"
      ]
    },
    {
      "cell_type": "code",
      "execution_count": 177,
      "metadata": {},
      "outputs": [
        {
          "name": "stdout",
          "output_type": "stream",
          "text": [
            "the total capacity is 2004616\n"
          ]
        }
      ],
      "source": [
        "# Calculate total capacity\n",
        "print(f\"the total capacity is {np.sum(capacity_list)}\")\n"
      ]
    },
    {
      "cell_type": "code",
      "execution_count": 189,
      "metadata": {},
      "outputs": [
        {
          "data": {
            "text/html": [
              "<div>\n",
              "<style scoped>\n",
              "    .dataframe tbody tr th:only-of-type {\n",
              "        vertical-align: middle;\n",
              "    }\n",
              "\n",
              "    .dataframe tbody tr th {\n",
              "        vertical-align: top;\n",
              "    }\n",
              "\n",
              "    .dataframe thead th {\n",
              "        text-align: right;\n",
              "    }\n",
              "</style>\n",
              "<table border=\"1\" class=\"dataframe\">\n",
              "  <thead>\n",
              "    <tr style=\"text-align: right;\">\n",
              "      <th></th>\n",
              "      <th>Parent GEM ID</th>\n",
              "      <th>capacity/parent</th>\n",
              "    </tr>\n",
              "  </thead>\n",
              "  <tbody>\n",
              "    <tr>\n",
              "      <th>19</th>\n",
              "      <td>E100000000652</td>\n",
              "      <td>64206.600</td>\n",
              "    </tr>\n",
              "    <tr>\n",
              "      <th>23</th>\n",
              "      <td>E100000000687</td>\n",
              "      <td>57703.333</td>\n",
              "    </tr>\n",
              "    <tr>\n",
              "      <th>51</th>\n",
              "      <td>E100000122571</td>\n",
              "      <td>52834.200</td>\n",
              "    </tr>\n",
              "    <tr>\n",
              "      <th>27</th>\n",
              "      <td>E100000000953</td>\n",
              "      <td>44107.500</td>\n",
              "    </tr>\n",
              "    <tr>\n",
              "      <th>543</th>\n",
              "      <td>E100000132388</td>\n",
              "      <td>38127.892</td>\n",
              "    </tr>\n",
              "    <tr>\n",
              "      <th>...</th>\n",
              "      <td>...</td>\n",
              "      <td>...</td>\n",
              "    </tr>\n",
              "    <tr>\n",
              "      <th>391</th>\n",
              "      <td>E100000129163</td>\n",
              "      <td>0.000</td>\n",
              "    </tr>\n",
              "    <tr>\n",
              "      <th>390</th>\n",
              "      <td>E100000129162</td>\n",
              "      <td>0.000</td>\n",
              "    </tr>\n",
              "    <tr>\n",
              "      <th>389</th>\n",
              "      <td>E100000129125</td>\n",
              "      <td>0.000</td>\n",
              "    </tr>\n",
              "    <tr>\n",
              "      <th>113</th>\n",
              "      <td>E100000124399</td>\n",
              "      <td>0.000</td>\n",
              "    </tr>\n",
              "    <tr>\n",
              "      <th>386</th>\n",
              "      <td>E100000129097</td>\n",
              "      <td>0.000</td>\n",
              "    </tr>\n",
              "  </tbody>\n",
              "</table>\n",
              "<p>772 rows × 2 columns</p>\n",
              "</div>"
            ],
            "text/plain": [
              "     Parent GEM ID  capacity/parent\n",
              "19   E100000000652        64206.600\n",
              "23   E100000000687        57703.333\n",
              "51   E100000122571        52834.200\n",
              "27   E100000000953        44107.500\n",
              "543  E100000132388        38127.892\n",
              "..             ...              ...\n",
              "391  E100000129163            0.000\n",
              "390  E100000129162            0.000\n",
              "389  E100000129125            0.000\n",
              "113  E100000124399            0.000\n",
              "386  E100000129097            0.000\n",
              "\n",
              "[772 rows x 2 columns]"
            ]
          },
          "execution_count": 189,
          "metadata": {},
          "output_type": "execute_result"
        }
      ],
      "source": [
        "#Which companies have the highest total capacity?\n",
        "region_df = df[['Plant ID','Region']]\n",
        "big_merge = pd.merge(region_df,df1,on='Plant ID',how='inner')\n",
        "big_merge = pd.merge(big_merge,own_df,on='Plant ID',how='inner')\n",
        "big_merge['capacity/parent']=big_merge['Nominal crude steel capacity (ttpa)']*big_merge['share']\n",
        "capa_parent = ( big_merge.groupby('Parent GEM ID', as_index=False)['capacity/parent'].sum().sort_values(by='capacity/parent', ascending=False))\n",
        "capa_parent"
      ]
    },
    {
      "cell_type": "code",
      "execution_count": 191,
      "metadata": {},
      "outputs": [
        {
          "data": {
            "text/html": [
              "<div>\n",
              "<style scoped>\n",
              "    .dataframe tbody tr th:only-of-type {\n",
              "        vertical-align: middle;\n",
              "    }\n",
              "\n",
              "    .dataframe tbody tr th {\n",
              "        vertical-align: top;\n",
              "    }\n",
              "\n",
              "    .dataframe thead th {\n",
              "        text-align: right;\n",
              "    }\n",
              "</style>\n",
              "<table border=\"1\" class=\"dataframe\">\n",
              "  <thead>\n",
              "    <tr style=\"text-align: right;\">\n",
              "      <th></th>\n",
              "      <th>Region</th>\n",
              "      <th>capacity/parent</th>\n",
              "    </tr>\n",
              "  </thead>\n",
              "  <tbody>\n",
              "    <tr>\n",
              "      <th>1</th>\n",
              "      <td>Asia Pacific</td>\n",
              "      <td>1.382850e+06</td>\n",
              "    </tr>\n",
              "    <tr>\n",
              "      <th>4</th>\n",
              "      <td>Europe</td>\n",
              "      <td>2.050146e+05</td>\n",
              "    </tr>\n",
              "    <tr>\n",
              "      <th>6</th>\n",
              "      <td>North America</td>\n",
              "      <td>1.472878e+05</td>\n",
              "    </tr>\n",
              "    <tr>\n",
              "      <th>3</th>\n",
              "      <td>Eurasia</td>\n",
              "      <td>9.256407e+04</td>\n",
              "    </tr>\n",
              "    <tr>\n",
              "      <th>5</th>\n",
              "      <td>Middle East</td>\n",
              "      <td>7.485907e+04</td>\n",
              "    </tr>\n",
              "    <tr>\n",
              "      <th>2</th>\n",
              "      <td>Central &amp; South America</td>\n",
              "      <td>5.569568e+04</td>\n",
              "    </tr>\n",
              "    <tr>\n",
              "      <th>0</th>\n",
              "      <td>Africa</td>\n",
              "      <td>4.085133e+04</td>\n",
              "    </tr>\n",
              "  </tbody>\n",
              "</table>\n",
              "</div>"
            ],
            "text/plain": [
              "                    Region  capacity/parent\n",
              "1             Asia Pacific     1.382850e+06\n",
              "4                   Europe     2.050146e+05\n",
              "6            North America     1.472878e+05\n",
              "3                  Eurasia     9.256407e+04\n",
              "5              Middle East     7.485907e+04\n",
              "2  Central & South America     5.569568e+04\n",
              "0                   Africa     4.085133e+04"
            ]
          },
          "execution_count": 191,
          "metadata": {},
          "output_type": "execute_result"
        }
      ],
      "source": [
        "#How does capacity vary by region?\n",
        "capa_region =  ( big_merge.groupby('Region', as_index=False)['capacity/parent'].sum().sort_values(by='capacity/parent', ascending=False))\n",
        "capa_region"
      ]
    },
    {
      "cell_type": "markdown",
      "metadata": {},
      "source": [
        "---\n",
        "## Part 3: Geospatial Visualization with Plotly (15 minutes)\n",
        "\n",
        "Create interactive maps to visualize the steel plants' locations and characteristics.\n"
      ]
    },
    {
      "cell_type": "markdown",
      "metadata": {},
      "source": [
        "### Exercise 1: Basic Scatter Map\n",
        "**Task:** Create a scatter map showing all steel plant locations.\n",
        "- Use latitude and longitude for positioning\n",
        "- Color points by country or region\n",
        "- Add hover information showing plant name, company, and capacity\n"
      ]
    },
    {
      "cell_type": "code",
      "execution_count": 157,
      "metadata": {},
      "outputs": [],
      "source": [
        "# Create a scatter_geo or scatter_mapbox plot\n",
        "# Hint: Use plotly.express.scatter_geo() or scatter_mapbox()\n",
        "\n"
      ]
    },
    {
      "cell_type": "markdown",
      "metadata": {},
      "source": [
        "### Exercise 2: Sized Markers by Capacity\n",
        "**Task:** Create a map where marker size represents plant capacity.\n",
        "- Larger markers for higher capacity plants\n",
        "- Color by company\n",
        "- Include interactive hover details\n"
      ]
    },
    {
      "cell_type": "code",
      "execution_count": 158,
      "metadata": {},
      "outputs": [],
      "source": [
        "# Create scatter map with size parameter based on capacity\n",
        "\n"
      ]
    },
    {
      "cell_type": "markdown",
      "metadata": {},
      "source": [
        "### Exercise 3: Density Heatmap\n",
        "**Task:** Create a density map showing concentration of steel plants.\n",
        "- Use Plotly's density_mapbox to show clustering\n",
        "- Identify regions with high plant density\n"
      ]
    },
    {
      "cell_type": "code",
      "execution_count": 159,
      "metadata": {},
      "outputs": [],
      "source": [
        "# Create density heatmap\n",
        "# Hint: Use plotly.express.density_mapbox()\n",
        "\n"
      ]
    },
    {
      "cell_type": "markdown",
      "metadata": {},
      "source": [
        "---\n",
        "## Part 4: Merging Environmental Data with Assets\n",
        "\n",
        "Integrate environmental data (e.g., air quality, emissions, proximity to water sources) with steel plant locations.\n"
      ]
    },
    {
      "cell_type": "markdown",
      "metadata": {},
      "source": [
        "### Exercise 1: Load Environmental Data\n",
        "**Task:** Load the environmental dataset and inspect it.\n",
        "\n",
        "- [Litpop database](https://www.research-collection.ethz.ch/entities/researchdata/12dcfc4f-9d03-463a-8d6b-76c0dc73cdc8)\n",
        "\n",
        "- Expected columns: location_id, latitude, longitude, population density, activity etc.\n"
      ]
    },
    {
      "cell_type": "code",
      "execution_count": 160,
      "metadata": {},
      "outputs": [],
      "source": [
        "# Load environmental data\n",
        "\n"
      ]
    },
    {
      "cell_type": "code",
      "execution_count": 161,
      "metadata": {},
      "outputs": [],
      "source": [
        "# Inspect environmental data\n",
        "\n"
      ]
    },
    {
      "cell_type": "markdown",
      "metadata": {},
      "source": [
        "### Exercise 2: Spatial Join or Nearest Neighbor Matching\n",
        "**Task:** Merge environmental data with steel plants based on geographic proximity.\n",
        "- Use nearest neighbor matching or spatial join\n",
        "- Consider using geopandas for distance calculations\n",
        "- Match each plant to the nearest environmental monitoring station\n"
      ]
    },
    {
      "cell_type": "code",
      "execution_count": 162,
      "metadata": {},
      "outputs": [],
      "source": [
        "# Calculate distances or perform spatial join\n",
        "# Hint: You might calculate haversine distance or use a spatial library\n",
        "\n"
      ]
    },
    {
      "cell_type": "code",
      "execution_count": 163,
      "metadata": {},
      "outputs": [],
      "source": [
        "# Merge datasets\n",
        "\n"
      ]
    },
    {
      "cell_type": "markdown",
      "metadata": {},
      "source": [
        "### Exercise 3: Visualize Merged Data\n",
        "**Task:** Create a map showing steel plants colored by environmental metrics.\n",
        "- Color plants by air quality index or other environmental indicators\n",
        "- Size by capacity\n",
        "- Add hover details with both plant and environmental information\n"
      ]
    },
    {
      "cell_type": "code",
      "execution_count": 164,
      "metadata": {},
      "outputs": [],
      "source": [
        "# Create visualization of merged data\n",
        "\n"
      ]
    },
    {
      "cell_type": "markdown",
      "metadata": {},
      "source": [
        "---\n",
        "## Part 5: Company-Level Aggregation\n",
        "\n",
        "Aggregate data at the company level to analyze corporate footprints.\n"
      ]
    },
    {
      "cell_type": "markdown",
      "metadata": {},
      "source": [
        "### Exercise 1: Aggregate Metrics by Company\n",
        "**Task:** Group plants by company and calculate aggregate metrics.\n",
        "- Total capacity per company\n",
        "- Number of plants per company\n",
        "- Average environmental metrics per company\n",
        "- Geographic spread (e.g., number of countries)\n"
      ]
    },
    {
      "cell_type": "code",
      "execution_count": 165,
      "metadata": {},
      "outputs": [],
      "source": [
        "# Group by company and aggregate\n",
        "\n"
      ]
    },
    {
      "cell_type": "markdown",
      "metadata": {},
      "source": [
        "### Exercise 2: Company Headquarters or Centroid\n",
        "**Task:** Calculate a representative location for each company.\n",
        "- Option 1: Use the centroid of all plant locations\n",
        "- Option 2: Use the location of the largest plant\n",
        "- Option 3: Assign actual headquarters coordinates\n"
      ]
    },
    {
      "cell_type": "code",
      "execution_count": 166,
      "metadata": {},
      "outputs": [],
      "source": [
        "# Calculate company representative locations\n",
        "\n"
      ]
    },
    {
      "cell_type": "markdown",
      "metadata": {},
      "source": [
        "### Exercise 3: Visualize Company-Level Data\n",
        "**Task:** Create a map showing companies with aggregated metrics.\n",
        "- Show one marker per company at the representative location\n",
        "- Size by total capacity\n",
        "- Color by average environmental impact\n",
        "- Hover information with company summary statistics\n"
      ]
    },
    {
      "cell_type": "code",
      "execution_count": 167,
      "metadata": {},
      "outputs": [],
      "source": [
        "# Create company-level visualization\n",
        "\n"
      ]
    },
    {
      "cell_type": "markdown",
      "metadata": {},
      "source": [
        "---\n",
        "## Part 6: Streamlit Dashboard Integration\n",
        "\n",
        "Prepare your visualizations for deployment in a Streamlit dashboard.\n"
      ]
    },
    {
      "cell_type": "markdown",
      "metadata": {},
      "source": [
        "### Exercise 1: Create Dashboard Script Structure\n",
        "**Task:** Create a Streamlit app file (`dashboard.py`) with the following structure:\n",
        "\n",
        "```python\n",
        "# Import streamlit and other necessary libraries\n",
        "\n",
        "# Set page configuration\n",
        "\n",
        "# Title and description\n",
        "\n",
        "# Sidebar for filters\n",
        "# - Company selector\n",
        "# - Region/country filter\n",
        "# - Capacity range slider\n",
        "\n",
        "# Main content area\n",
        "# - KPI metrics (total plants, total capacity, etc.)\n",
        "# - Interactive map\n",
        "# - Data table\n",
        "\n",
        "# Footer with data sources and notes\n",
        "```\n"
      ]
    },
    {
      "cell_type": "markdown",
      "metadata": {},
      "source": [
        "### Exercise 1: Prepare Data for Dashboard\n",
        "**Task:** Save your processed data to files that the dashboard will load.\n",
        "- Export cleaned plant data\n",
        "- Export merged environmental data\n",
        "- Export company-level aggregations\n",
        "- Save as CSV or Parquet for efficient loading\n"
      ]
    },
    {
      "cell_type": "code",
      "execution_count": 168,
      "metadata": {},
      "outputs": [],
      "source": [
        "# Save processed datasets\n",
        "\n"
      ]
    },
    {
      "cell_type": "markdown",
      "metadata": {},
      "source": [
        "### Exercise 2: Display relevant information from your exploratory analysis into the dashboard"
      ]
    },
    {
      "cell_type": "code",
      "execution_count": 169,
      "metadata": {},
      "outputs": [],
      "source": [
        "# This cell is for notes/observations about your dashboard\n",
        "# What works well?\n",
        "# What could be improved?\n",
        "# Any performance issues with large datasets?\n",
        "\n"
      ]
    },
    {
      "cell_type": "markdown",
      "metadata": {},
      "source": [
        "---\n",
        "## Lab Summary and Key Takeaways\n",
        "\n",
        "**What you learned:**\n",
        "- How to perform EDA on geospatial datasets\n",
        "- Creating interactive maps with Plotly for geospatial data\n",
        "- Merging spatial datasets based on geographic proximity\n",
        "- Aggregating geospatial data at different levels (asset vs. company)\n",
        "- Building interactive dashboards with Streamlit\n",
        "\n",
        "**Next Steps:**\n",
        "- Explore other geospatial libraries (GeoPandas, Folium, Kepler.gl)\n",
        "- Learn about coordinate reference systems (CRS) and projections\n",
        "- Practice with other datasets (buildings, utilities, transportation)\n",
        "- Deploy your dashboard to Streamlit Cloud or other hosting services\n"
      ]
    }
  ],
  "metadata": {
    "kernelspec": {
      "display_name": "Python 3",
      "language": "python",
      "name": "python3"
    },
    "language_info": {
      "codemirror_mode": {
        "name": "ipython",
        "version": 3
      },
      "file_extension": ".py",
      "mimetype": "text/x-python",
      "name": "python",
      "nbconvert_exporter": "python",
      "pygments_lexer": "ipython3",
      "version": "3.12.6"
    }
  },
  "nbformat": 4,
  "nbformat_minor": 2
}
